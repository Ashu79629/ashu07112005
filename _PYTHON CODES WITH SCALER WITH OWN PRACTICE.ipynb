{
 "cells": [
  {
   "cell_type": "code",
   "execution_count": null,
   "id": "6390302a",
   "metadata": {},
   "outputs": [],
   "source": [
    "# STARTING PYTHON CODES\n",
    "\n",
    "a = \"ashutosh pandey\"\n",
    "print(a)\n"
   ]
  },
  {
   "cell_type": "code",
   "execution_count": null,
   "id": "6b729bd8",
   "metadata": {},
   "outputs": [],
   "source": [
    "# check the id function \n",
    "a = 120\n",
    "print(id(a))"
   ]
  },
  {
   "cell_type": "code",
   "execution_count": null,
   "id": "393906a9",
   "metadata": {},
   "outputs": [],
   "source": [
    "# strings\n",
    "a = \"Ashutosh\"\n",
    "b = \"pandey\"\n",
    "print(a + b)"
   ]
  },
  {
   "cell_type": "code",
   "execution_count": null,
   "id": "90651fba",
   "metadata": {},
   "outputs": [],
   "source": [
    "# intger\n",
    "a = 12\n",
    "print(type(a))"
   ]
  },
  {
   "cell_type": "code",
   "execution_count": 8,
   "id": "b914f1b3",
   "metadata": {},
   "outputs": [
    {
     "name": "stdout",
     "output_type": "stream",
     "text": [
      "25\n"
     ]
    }
   ],
   "source": [
    "a = 12\n",
    "b = 13\n",
    "print(a + b)\n"
   ]
  },
  {
   "cell_type": "code",
   "execution_count": null,
   "id": "64b37e0d",
   "metadata": {},
   "outputs": [],
   "source": [
    "# float\n",
    "a = 12.4\n",
    "print(a)\n",
    "print(type(a))"
   ]
  },
  {
   "cell_type": "code",
   "execution_count": 10,
   "id": "d743c5be",
   "metadata": {},
   "outputs": [
    {
     "name": "stdout",
     "output_type": "stream",
     "text": [
      "<class 'int'>\n"
     ]
    }
   ],
   "source": [
    "a = 12\n",
    "print(type(a))"
   ]
  },
  {
   "cell_type": "code",
   "execution_count": null,
   "id": "6fab6422",
   "metadata": {},
   "outputs": [],
   "source": [
    "# boolean\n",
    "a = True\n",
    "print(type(a))\n",
    "print(a)"
   ]
  },
  {
   "cell_type": "code",
   "execution_count": 30,
   "id": "66321540",
   "metadata": {
    "tags": []
   },
   "outputs": [
    {
     "name": "stdout",
     "output_type": "stream",
     "text": [
      "('ashu', 'pandey', 'python', 24, 45, 67)\n"
     ]
    }
   ],
   "source": [
    "# printing multiple values\n",
    "a = (\"ashu\", \"pandey\", \"python\", 24, 45, 67,)\n",
    "print(a, sep=\"\\n\")"
   ]
  },
  {
   "cell_type": "code",
   "execution_count": 12,
   "id": "25bd29c5",
   "metadata": {
    "tags": []
   },
   "outputs": [
    {
     "name": "stdout",
     "output_type": "stream",
     "text": [
      "Rahul,26\n"
     ]
    }
   ],
   "source": [
    "# seperator codes\n",
    "print(\"Rahul\",26, sep=\",\")\n"
   ]
  },
  {
   "cell_type": "code",
   "execution_count": 34,
   "id": "9119b0f5",
   "metadata": {
    "tags": []
   },
   "outputs": [
    {
     "name": "stdout",
     "output_type": "stream",
     "text": [
      "ashutosh 18\n",
      "pandey 18\n"
     ]
    }
   ],
   "source": [
    "# end seperator codes\n",
    "print(\"ashutosh\" ,18, end=\"\\n\")\n",
    "print(\"pandey\" , 18,)"
   ]
  },
  {
   "cell_type": "code",
   "execution_count": 36,
   "id": "8b423dc2",
   "metadata": {
    "tags": []
   },
   "outputs": [
    {
     "name": "stdout",
     "output_type": "stream",
     "text": [
      "ashutosh\n",
      "18>-pandey\n"
     ]
    }
   ],
   "source": [
    "# mix\n",
    "print(\"ashutosh\" ,18,sep=\"\\n\", end=\">-\")\n",
    "print(\"pandey\")"
   ]
  },
  {
   "cell_type": "code",
   "execution_count": 38,
   "id": "364a08b7",
   "metadata": {
    "tags": []
   },
   "outputs": [
    {
     "name": "stdout",
     "output_type": "stream",
     "text": [
      "7\n"
     ]
    }
   ],
   "source": [
    "# operator codes\n",
    "# arithmetic operator\n",
    "a = 4\n",
    "b = 3\n",
    "print(a + b)"
   ]
  },
  {
   "cell_type": "code",
   "execution_count": 23,
   "id": "b420404d",
   "metadata": {},
   "outputs": [
    {
     "name": "stdout",
     "output_type": "stream",
     "text": [
      "10\n"
     ]
    }
   ],
   "source": [
    "a = 42\n",
    "b = 32\n",
    "print(a - b)"
   ]
  },
  {
   "cell_type": "code",
   "execution_count": 24,
   "id": "e1b63be3",
   "metadata": {},
   "outputs": [
    {
     "name": "stdout",
     "output_type": "stream",
     "text": [
      "2.0\n"
     ]
    }
   ],
   "source": [
    "a = 34\n",
    "b = 17\n",
    "print(a/b) # divide always give float \n"
   ]
  },
  {
   "cell_type": "code",
   "execution_count": 25,
   "id": "ddb7ed2e",
   "metadata": {},
   "outputs": [
    {
     "name": "stdout",
     "output_type": "stream",
     "text": [
      "483\n"
     ]
    }
   ],
   "source": [
    "a = 23\n",
    "b = 21\n",
    "print(a * b)"
   ]
  },
  {
   "cell_type": "code",
   "execution_count": 26,
   "id": "63a091f2",
   "metadata": {},
   "outputs": [
    {
     "name": "stdout",
     "output_type": "stream",
     "text": [
      "0\n"
     ]
    }
   ],
   "source": [
    "a = 20\n",
    "b = 2\n",
    "print(a%b)\n"
   ]
  },
  {
   "cell_type": "code",
   "execution_count": 27,
   "id": "4bf0f679",
   "metadata": {},
   "outputs": [
    {
     "name": "stdout",
     "output_type": "stream",
     "text": [
      "2\n"
     ]
    }
   ],
   "source": [
    "a = 35\n",
    "b = 12\n",
    "print(a//b)"
   ]
  },
  {
   "cell_type": "code",
   "execution_count": null,
   "id": "1413ecdf",
   "metadata": {},
   "outputs": [],
   "source": [
    "# comparison operator\n",
    "a = 67\n",
    "b = 56\n",
    "print(a==b)"
   ]
  },
  {
   "cell_type": "code",
   "execution_count": 29,
   "id": "dcaa1c78",
   "metadata": {},
   "outputs": [
    {
     "name": "stdout",
     "output_type": "stream",
     "text": [
      "True\n"
     ]
    }
   ],
   "source": [
    "a = 34\n",
    "b = 45\n",
    "print(a!=b)"
   ]
  },
  {
   "cell_type": "code",
   "execution_count": 30,
   "id": "abaca180",
   "metadata": {},
   "outputs": [
    {
     "name": "stdout",
     "output_type": "stream",
     "text": [
      "False\n"
     ]
    }
   ],
   "source": [
    "a = 34\n",
    "b = 45\n",
    "print(a>=b)"
   ]
  },
  {
   "cell_type": "code",
   "execution_count": 31,
   "id": "76bf5626",
   "metadata": {},
   "outputs": [
    {
     "name": "stdout",
     "output_type": "stream",
     "text": [
      "True\n"
     ]
    }
   ],
   "source": [
    "a = 23\n",
    "b = 24\n",
    "print(a<=b)"
   ]
  },
  {
   "cell_type": "code",
   "execution_count": null,
   "id": "1a47e640",
   "metadata": {},
   "outputs": [],
   "source": [
    "# assignment operator\n",
    "a = 23\n",
    "a = a + 23\n",
    "print(a)\n"
   ]
  },
  {
   "cell_type": "code",
   "execution_count": 33,
   "id": "18486a58",
   "metadata": {},
   "outputs": [
    {
     "name": "stdout",
     "output_type": "stream",
     "text": [
      "80\n"
     ]
    }
   ],
   "source": [
    "\n",
    "a+= 34\n",
    "print(a)"
   ]
  },
  {
   "cell_type": "code",
   "execution_count": 34,
   "id": "a08c8c05",
   "metadata": {},
   "outputs": [
    {
     "name": "stdout",
     "output_type": "stream",
     "text": [
      "80\n"
     ]
    }
   ],
   "source": [
    "print(a)"
   ]
  },
  {
   "cell_type": "code",
   "execution_count": 35,
   "id": "b4259fba",
   "metadata": {},
   "outputs": [
    {
     "name": "stdout",
     "output_type": "stream",
     "text": [
      "150\n"
     ]
    }
   ],
   "source": [
    "a = 90\n",
    "a = a + 60\n",
    "print(a)"
   ]
  },
  {
   "cell_type": "code",
   "execution_count": 36,
   "id": "4ac7177b",
   "metadata": {},
   "outputs": [
    {
     "name": "stdout",
     "output_type": "stream",
     "text": [
      "80\n"
     ]
    }
   ],
   "source": [
    "a = 40\n",
    "a = a*2\n",
    "print(a)"
   ]
  },
  {
   "cell_type": "code",
   "execution_count": 37,
   "id": "19253b0c",
   "metadata": {},
   "outputs": [
    {
     "name": "stdout",
     "output_type": "stream",
     "text": [
      "5.0\n"
     ]
    }
   ],
   "source": [
    "a = 35\n",
    "a = a/7\n",
    "print(a) # always give float"
   ]
  },
  {
   "cell_type": "code",
   "execution_count": 47,
   "id": "06e4f058",
   "metadata": {},
   "outputs": [
    {
     "data": {
      "text/plain": [
       "'best in a'"
      ]
     },
     "execution_count": 47,
     "metadata": {},
     "output_type": "execute_result"
    }
   ],
   "source": [
    "a = \"Ashutosh pandey is the best player\"\n",
    "\"Ashutosh\" in a\n",
    "\"pandey\" in a\n",
    "\"best in a\""
   ]
  },
  {
   "cell_type": "code",
   "execution_count": null,
   "id": "46bf1645",
   "metadata": {},
   "outputs": [],
   "source": [
    "# if else example\n",
    "age = int(input())\n",
    "if(age>18):\n",
    "    print(\"you are eligible for cast their vote\")\n",
    "else:\n",
    "    print(\"wait until you turn 18\")\n",
    "    "
   ]
  },
  {
   "cell_type": "code",
   "execution_count": 5,
   "id": "2163276b",
   "metadata": {},
   "outputs": [
    {
     "name": "stdout",
     "output_type": "stream",
     "text": [
      "19\n",
      "wait and focus on your study\n"
     ]
    }
   ],
   "source": [
    "age = int(input())\n",
    "if(age>=20):\n",
    "    print(\"you drive a car fearless\")\n",
    "    print(\"you getting a job in IT company\")\n",
    "else:\n",
    "    print(\"wait and focus on your study\")"
   ]
  },
  {
   "cell_type": "code",
   "execution_count": null,
   "id": "cb93b249",
   "metadata": {},
   "outputs": [],
   "source": [
    "# nested if else statements example\n",
    "a = int(input())\n",
    "if(age<18):\n",
    "    # check if age is greater than 62\n",
    "    if(age>=62):\n",
    "        print(\"Take retirement and take care our health\")\n",
    "else:\n",
    "    print(\"focus on your goals until they achieve\")\n",
    "    \n"
   ]
  },
  {
   "cell_type": "code",
   "execution_count": null,
   "id": "33c1c2c1",
   "metadata": {},
   "outputs": [],
   "source": [
    "# if elif else\n",
    "\n"
   ]
  },
  {
   "cell_type": "code",
   "execution_count": 8,
   "id": "1b6ccf3c",
   "metadata": {},
   "outputs": [
    {
     "name": "stdout",
     "output_type": "stream",
     "text": [
      "90\n",
      "take care\n"
     ]
    }
   ],
   "source": [
    "age = int(input())\n",
    "if(age<=21):\n",
    "    print(\"you are eligible for voting and driving\")\n",
    "elif(age>=65):\n",
    "    print(\"take care\")\n",
    "else:\n",
    "    print(\"invalid\")\n",
    "    \n",
    "    # some mistake"
   ]
  },
  {
   "cell_type": "code",
   "execution_count": 5,
   "id": "c6156403",
   "metadata": {},
   "outputs": [
    {
     "name": "stdout",
     "output_type": "stream",
     "text": [
      "81\n",
      "You take a grade of B\n"
     ]
    }
   ],
   "source": [
    "marks = int(input())\n",
    "if(marks>=90 and marks<100):\n",
    "    print(\"You take grade A\")\n",
    "elif(marks>=80 and marks<89):\n",
    "    print(\"You take a grade of B\")\n",
    "elif(marks>=70 and marks<79):\n",
    "    print(\"You take grade of C\")\n",
    "elif(marks>=60 and marks<69):\n",
    "    print(\"you take a grade of D\")\n",
    "elif(marks<60):\n",
    "    print(\"YOU take a grade of E\")\n",
    "else:\n",
    "    print(\"invalid\")\n",
    "    \n"
   ]
  },
  {
   "cell_type": "code",
   "execution_count": 6,
   "id": "73e71536",
   "metadata": {},
   "outputs": [
    {
     "name": "stdout",
     "output_type": "stream",
     "text": [
      "5\n"
     ]
    }
   ],
   "source": [
    "a = 5\n",
    "b = ++5\n",
    "print(b)"
   ]
  },
  {
   "cell_type": "code",
   "execution_count": 3,
   "id": "01d97e64",
   "metadata": {},
   "outputs": [
    {
     "name": "stdout",
     "output_type": "stream",
     "text": [
      "you are best\n",
      "you are best\n",
      "you are best\n",
      "you are best\n",
      "you are best\n",
      "you are best\n"
     ]
    }
   ],
   "source": [
    "# while loop\n",
    "i = 1\n",
    "while(i<=6):\n",
    "    print(\"you are best\")\n",
    "    \n",
    "    i += 1\n",
    "    \n",
    "    "
   ]
  },
  {
   "cell_type": "code",
   "execution_count": 4,
   "id": "3c19c4d8",
   "metadata": {},
   "outputs": [
    {
     "name": "stdout",
     "output_type": "stream",
     "text": [
      "0\n",
      "1\n",
      "2\n",
      "3\n",
      "4\n",
      "5\n",
      "6\n",
      "7\n",
      "8\n",
      "9\n",
      "10\n"
     ]
    }
   ],
   "source": [
    "i = 0\n",
    "while(i<=10):\n",
    "    print(i)\n",
    "    \n",
    "    i += 1"
   ]
  },
  {
   "cell_type": "code",
   "execution_count": 15,
   "id": "84c5cae9",
   "metadata": {},
   "outputs": [
    {
     "name": "stdout",
     "output_type": "stream",
     "text": [
      "2\n",
      "4\n",
      "6\n",
      "8\n",
      "10\n",
      "12\n",
      "14\n",
      "16\n",
      "18\n",
      "20\n"
     ]
    }
   ],
   "source": [
    "# print the even numbers\n",
    "i = 1\n",
    "while(i<=20):\n",
    "    if(i % 2 == 0 ):\n",
    "        print(i)\n",
    "        \n",
    "        \n",
    "    i+= 1    \n",
    "        \n",
    "        \n",
    "    \n"
   ]
  },
  {
   "cell_type": "code",
   "execution_count": 9,
   "id": "40ef4dcc",
   "metadata": {},
   "outputs": [
    {
     "name": "stdout",
     "output_type": "stream",
     "text": [
      "hello woeld\n"
     ]
    }
   ],
   "source": [
    "print(\"hello woeld\")"
   ]
  },
  {
   "cell_type": "code",
   "execution_count": 21,
   "id": "8ff23420",
   "metadata": {},
   "outputs": [
    {
     "name": "stdout",
     "output_type": "stream",
     "text": [
      "1\n",
      "3\n",
      "6\n",
      "10\n",
      "15\n",
      "21\n",
      "28\n",
      "36\n",
      "45\n",
      "55\n",
      "66\n",
      "78\n",
      "91\n",
      "105\n",
      "120\n",
      "136\n",
      "153\n",
      "171\n",
      "190\n",
      "210\n"
     ]
    }
   ],
   "source": [
    "# print the sum of first 20 numbers\n",
    "\n",
    "i = 1\n",
    "sum = 0\n",
    "while(i<=20):\n",
    "    sum+= i\n",
    "    i+= 1\n",
    "    print(sum)\n",
    "    "
   ]
  },
  {
   "cell_type": "code",
   "execution_count": 22,
   "id": "7f0e9229",
   "metadata": {},
   "outputs": [
    {
     "name": "stdout",
     "output_type": "stream",
     "text": [
      "1\n",
      "3\n",
      "6\n",
      "10\n",
      "15\n",
      "21\n",
      "28\n",
      "36\n",
      "45\n",
      "55\n",
      "66\n",
      "78\n",
      "91\n",
      "105\n",
      "120\n"
     ]
    }
   ],
   "source": [
    "a = 1\n",
    "sum = 0\n",
    "while(a<=15):\n",
    "    sum+= a\n",
    "    a+= 1\n",
    "    print(sum)"
   ]
  },
  {
   "cell_type": "code",
   "execution_count": 6,
   "id": "06eaf7e0",
   "metadata": {},
   "outputs": [
    {
     "data": {
      "text/plain": [
       "range(0, 20)"
      ]
     },
     "execution_count": 6,
     "metadata": {},
     "output_type": "execute_result"
    }
   ],
   "source": [
    "# range function\n",
    "range(20)\n",
    "\n",
    "\n"
   ]
  },
  {
   "cell_type": "code",
   "execution_count": 7,
   "id": "f57ade2e",
   "metadata": {},
   "outputs": [
    {
     "data": {
      "text/plain": [
       "[1, 3, 5, 7, 9, 11, 13, 15, 17, 19]"
      ]
     },
     "execution_count": 7,
     "metadata": {},
     "output_type": "execute_result"
    }
   ],
   "source": [
    "list(range(1,20,2))"
   ]
  },
  {
   "cell_type": "code",
   "execution_count": 8,
   "id": "140a5e64",
   "metadata": {},
   "outputs": [
    {
     "data": {
      "text/plain": [
       "[1, 11, 21, 31, 41, 51, 61, 71, 81, 91]"
      ]
     },
     "execution_count": 8,
     "metadata": {},
     "output_type": "execute_result"
    }
   ],
   "source": [
    "list(range(1,100,10))\n"
   ]
  },
  {
   "cell_type": "code",
   "execution_count": 9,
   "id": "359851ab",
   "metadata": {},
   "outputs": [
    {
     "data": {
      "text/plain": [
       "[10, 8, 6, 4, 2, 0, -2, -4, -6, -8]"
      ]
     },
     "execution_count": 9,
     "metadata": {},
     "output_type": "execute_result"
    }
   ],
   "source": [
    "list(range(10,-10,-2))"
   ]
  },
  {
   "cell_type": "code",
   "execution_count": 19,
   "id": "1d50b9e8",
   "metadata": {},
   "outputs": [
    {
     "name": "stdout",
     "output_type": "stream",
     "text": [
      "1,2,3,4,5,6,7,8,9,10,11,12,13,14,15,16,17,18,19,20,"
     ]
    }
   ],
   "source": [
    "# for loop \n",
    "for i in range(1,21):\n",
    "    print(i, end=\",\")"
   ]
  },
  {
   "cell_type": "code",
   "execution_count": 33,
   "id": "747559d2",
   "metadata": {},
   "outputs": [
    {
     "name": "stdout",
     "output_type": "stream",
     "text": [
      "6\n",
      "6\n",
      "12\n",
      "18\n",
      "24\n",
      "30\n",
      "36\n",
      "42\n",
      "48\n",
      "54\n",
      "60\n"
     ]
    }
   ],
   "source": [
    "# print multiplication table \n",
    "n = int(input())\n",
    "for i in range(1,11):\n",
    "    print(n * i)"
   ]
  },
  {
   "cell_type": "code",
   "execution_count": 36,
   "id": "1845d3c0",
   "metadata": {},
   "outputs": [
    {
     "name": "stdout",
     "output_type": "stream",
     "text": [
      "#,#,#,#,#,\n",
      "#,#,#,#,#,\n",
      "#,#,#,#,#,\n",
      "#,#,#,#,#,\n",
      "#,#,#,#,#,\n"
     ]
    }
   ],
   "source": [
    "# print pattetn -1 \n",
    "for i in range(5):\n",
    "    for j in range(5):\n",
    "        print(\"#\", end=\",\")\n",
    "    print()    \n",
    "\n",
    "        \n"
   ]
  },
  {
   "cell_type": "code",
   "execution_count": 38,
   "id": "aca2a406",
   "metadata": {},
   "outputs": [
    {
     "name": "stdout",
     "output_type": "stream",
     "text": [
      "***\n",
      "***\n",
      "***\n"
     ]
    }
   ],
   "source": [
    "# print pattern example 2\n",
    "for i in range(3):\n",
    "    for j in range(3):\n",
    "        print(\"*\", end=\"\")\n",
    "    print()    "
   ]
  },
  {
   "cell_type": "code",
   "execution_count": 1,
   "id": "07ce369f",
   "metadata": {},
   "outputs": [
    {
     "name": "stdout",
     "output_type": "stream",
     "text": [
      "4\n",
      "#\n",
      "##\n",
      "###\n",
      "####\n"
     ]
    }
   ],
   "source": [
    "# print pattern 2 \n",
    "i = int(input())\n",
    "for i in range(1,5):\n",
    "    for j in range(i):\n",
    "        print(\"#\", end=\"\")\n",
    "    print()    \n",
    "             "
   ]
  },
  {
   "cell_type": "code",
   "execution_count": 5,
   "id": "645373b5",
   "metadata": {},
   "outputs": [
    {
     "name": "stdout",
     "output_type": "stream",
     "text": [
      "*\n",
      "**\n",
      "***\n",
      "****\n",
      "*****\n",
      "******\n",
      "*******\n",
      "********\n",
      "*********\n",
      "**********\n",
      "***********\n",
      "************\n",
      "*************\n",
      "**************\n",
      "***************\n"
     ]
    }
   ],
   "source": [
    "# example 2\n",
    "i = 15\n",
    "for i in range(1,16):\n",
    "    for j in range(i):\n",
    "        print(\"*\" , end=\"\")\n",
    "    print()    "
   ]
  },
  {
   "cell_type": "code",
   "execution_count": 6,
   "id": "785cffc1",
   "metadata": {},
   "outputs": [
    {
     "name": "stdout",
     "output_type": "stream",
     "text": [
      "0\n",
      "1\n",
      "2\n",
      "3\n",
      "4\n",
      "5\n",
      "66\n",
      "7\n",
      "8\n",
      "9\n"
     ]
    }
   ],
   "source": [
    "for x in range(10):\n",
    "    if x==6:\n",
    "        print(x, end=\"\")\n",
    "    print(x)    \n",
    "\n"
   ]
  },
  {
   "cell_type": "code",
   "execution_count": 7,
   "id": "01dd88ed",
   "metadata": {},
   "outputs": [
    {
     "name": "stdout",
     "output_type": "stream",
     "text": [
      "2\n"
     ]
    }
   ],
   "source": [
    "for i in range(4):\n",
    "    if i==2:\n",
    "        print(i)\n",
    "        i = 10\n",
    "    \n",
    "\n",
    "    \n"
   ]
  },
  {
   "cell_type": "code",
   "execution_count": 8,
   "id": "0734c1eb",
   "metadata": {},
   "outputs": [
    {
     "name": "stdout",
     "output_type": "stream",
     "text": [
      "3\n",
      "4\n",
      "5\n",
      "6\n",
      "7\n",
      "8\n",
      "9\n",
      "10\n",
      "11\n",
      "12\n",
      "13\n",
      "14\n",
      "15\n",
      "16\n",
      "17\n",
      "18\n",
      "19\n"
     ]
    }
   ],
   "source": [
    "while i<20:\n",
    "    print(i)\n",
    "    i+= 1\n"
   ]
  },
  {
   "cell_type": "code",
   "execution_count": 20,
   "id": "7bd2691d",
   "metadata": {},
   "outputs": [
    {
     "name": "stdout",
     "output_type": "stream",
     "text": [
      "3\n"
     ]
    }
   ],
   "source": [
    "i = int(input())\n",
    "\n",
    "if(i/1==0):\n",
    "    print(\"the number is prime\")\n",
    "    \n",
    "else:\n",
    "    (\"print the number is not prime\")\n",
    "    "
   ]
  },
  {
   "cell_type": "code",
   "execution_count": 23,
   "id": "08c148ec",
   "metadata": {},
   "outputs": [
    {
     "name": "stdout",
     "output_type": "stream",
     "text": [
      "4\n",
      "4\n",
      "*\n",
      "5\n",
      "***\n",
      "6\n",
      "*****\n",
      "7\n",
      "*******\n",
      "8\n",
      "*********\n",
      "9\n",
      "***********\n"
     ]
    }
   ],
   "source": [
    "i = int(input())\n",
    "for i in range(6):\n",
    "    n = int(input())\n",
    "    \n",
    "    print(\"\" * (n-i-1) + \"*\" * (2*i+1))\n",
    "   \n"
   ]
  },
  {
   "cell_type": "code",
   "execution_count": 1,
   "id": "041ff3d3",
   "metadata": {},
   "outputs": [
    {
     "name": "stdout",
     "output_type": "stream",
     "text": [
      "<class 'str'>\n"
     ]
    }
   ],
   "source": [
    "# STRING TOPIC\n",
    "\n",
    "a = 'ashutosh'\n",
    "print(type(a))"
   ]
  },
  {
   "cell_type": "code",
   "execution_count": 3,
   "id": "bb927bb1",
   "metadata": {},
   "outputs": [
    {
     "name": "stdout",
     "output_type": "stream",
     "text": [
      "<class 'str'>\n"
     ]
    }
   ],
   "source": [
    "a = \"\"\"\n",
    "      it is a multiline comment \n",
    "\"\"\"\n",
    "print(type(a))"
   ]
  },
  {
   "cell_type": "code",
   "execution_count": 2,
   "id": "c17121da",
   "metadata": {},
   "outputs": [
    {
     "data": {
      "text/plain": [
       "str"
      ]
     },
     "execution_count": 2,
     "metadata": {},
     "output_type": "execute_result"
    }
   ],
   "source": [
    "a = \"pandey\"\n",
    "type(a)"
   ]
  },
  {
   "cell_type": "code",
   "execution_count": 4,
   "id": "dbfd0781",
   "metadata": {},
   "outputs": [
    {
     "data": {
      "text/plain": [
       "97"
      ]
     },
     "execution_count": 4,
     "metadata": {},
     "output_type": "execute_result"
    }
   ],
   "source": [
    "#ord and chr\n",
    "\n",
    "ord('a')"
   ]
  },
  {
   "cell_type": "code",
   "execution_count": 5,
   "id": "fe062b5f",
   "metadata": {},
   "outputs": [
    {
     "data": {
      "text/plain": [
       "65"
      ]
     },
     "execution_count": 5,
     "metadata": {},
     "output_type": "execute_result"
    }
   ],
   "source": [
    "ord('A')"
   ]
  },
  {
   "cell_type": "code",
   "execution_count": 7,
   "id": "4be29f2f",
   "metadata": {},
   "outputs": [
    {
     "data": {
      "text/plain": [
       "104"
      ]
     },
     "execution_count": 7,
     "metadata": {},
     "output_type": "execute_result"
    }
   ],
   "source": [
    "ord('h')"
   ]
  },
  {
   "cell_type": "code",
   "execution_count": 8,
   "id": "abd699dd",
   "metadata": {},
   "outputs": [
    {
     "data": {
      "text/plain": [
       "'a'"
      ]
     },
     "execution_count": 8,
     "metadata": {},
     "output_type": "execute_result"
    }
   ],
   "source": [
    "chr(97)"
   ]
  },
  {
   "cell_type": "raw",
   "id": "e7ed7faa",
   "metadata": {},
   "source": []
  },
  {
   "cell_type": "code",
   "execution_count": 9,
   "id": "2fd28f1f",
   "metadata": {},
   "outputs": [
    {
     "data": {
      "text/plain": [
       "'.'"
      ]
     },
     "execution_count": 9,
     "metadata": {},
     "output_type": "execute_result"
    }
   ],
   "source": [
    "chr(46)\n"
   ]
  },
  {
   "cell_type": "code",
   "execution_count": 10,
   "id": "d51433dd",
   "metadata": {},
   "outputs": [
    {
     "data": {
      "text/plain": [
       "'\\x17'"
      ]
     },
     "execution_count": 10,
     "metadata": {},
     "output_type": "execute_result"
    }
   ],
   "source": [
    "chr(23)"
   ]
  },
  {
   "cell_type": "code",
   "execution_count": 13,
   "id": "b2e0809b",
   "metadata": {},
   "outputs": [
    {
     "name": "stdout",
     "output_type": "stream",
     "text": [
      "15\n"
     ]
    }
   ],
   "source": [
    "# indexing in string\n",
    "a = \"ashutosh pandey\"\n",
    "print(len(a))"
   ]
  },
  {
   "cell_type": "code",
   "execution_count": 15,
   "id": "d4ef3c22",
   "metadata": {},
   "outputs": [
    {
     "name": "stdout",
     "output_type": "stream",
     "text": [
      "s\n"
     ]
    }
   ],
   "source": [
    "a = \"ashutosh\"\n",
    "print(a[1])"
   ]
  },
  {
   "cell_type": "code",
   "execution_count": 16,
   "id": "08534573",
   "metadata": {},
   "outputs": [
    {
     "name": "stdout",
     "output_type": "stream",
     "text": [
      "e\n"
     ]
    }
   ],
   "source": [
    "a = \"pandey\"\n",
    "print(a[-2])"
   ]
  },
  {
   "cell_type": "code",
   "execution_count": 20,
   "id": "9f2bd6cb",
   "metadata": {},
   "outputs": [
    {
     "name": "stdout",
     "output_type": "stream",
     "text": [
      "H\n",
      "24\n"
     ]
    }
   ],
   "source": [
    "a = \"INDIANTEAMWINTHEWORLDCUP\"\n",
    "print(a[-10])\n",
    "print(len(a))"
   ]
  },
  {
   "cell_type": "code",
   "execution_count": 21,
   "id": "2a183436",
   "metadata": {},
   "outputs": [
    {
     "name": "stdout",
     "output_type": "stream",
     "text": [
      "14\n"
     ]
    }
   ],
   "source": [
    "# slicing in python\n",
    "a = \"ashutoshpandey\"\n",
    "print(len(a))\n",
    "\n",
    "\n",
    "\n"
   ]
  },
  {
   "cell_type": "code",
   "execution_count": 23,
   "id": "9fd63f98",
   "metadata": {},
   "outputs": [
    {
     "data": {
      "text/plain": [
       "'ashutoshpandey'"
      ]
     },
     "execution_count": 23,
     "metadata": {},
     "output_type": "execute_result"
    }
   ],
   "source": [
    "a"
   ]
  },
  {
   "cell_type": "code",
   "execution_count": 25,
   "id": "d23ef41a",
   "metadata": {},
   "outputs": [
    {
     "name": "stdout",
     "output_type": "stream",
     "text": [
      "ausae\n"
     ]
    }
   ],
   "source": [
    "print(a[0:13:3])"
   ]
  },
  {
   "cell_type": "code",
   "execution_count": 26,
   "id": "50ef28dc",
   "metadata": {},
   "outputs": [
    {
     "name": "stdout",
     "output_type": "stream",
     "text": [
      "hsa\n"
     ]
    }
   ],
   "source": [
    "print(a[2::-1])"
   ]
  },
  {
   "cell_type": "code",
   "execution_count": 27,
   "id": "a72d0962",
   "metadata": {},
   "outputs": [
    {
     "name": "stdout",
     "output_type": "stream",
     "text": [
      "ydahous\n"
     ]
    }
   ],
   "source": [
    "print(a[::-2])"
   ]
  },
  {
   "cell_type": "code",
   "execution_count": 28,
   "id": "4c23a248",
   "metadata": {},
   "outputs": [
    {
     "name": "stdout",
     "output_type": "stream",
     "text": [
      "suohady\n"
     ]
    }
   ],
   "source": [
    "print(a[1:len(a):2])"
   ]
  },
  {
   "cell_type": "code",
   "execution_count": 34,
   "id": "84afe1fc",
   "metadata": {
    "scrolled": true
   },
   "outputs": [
    {
     "name": "stdout",
     "output_type": "stream",
     "text": [
      "e\n"
     ]
    }
   ],
   "source": [
    "print(a[12:11:-3])"
   ]
  },
  {
   "cell_type": "code",
   "execution_count": 40,
   "id": "c6079cf8",
   "metadata": {},
   "outputs": [
    {
     "name": "stdout",
     "output_type": "stream",
     "text": [
      "\n"
     ]
    }
   ],
   "source": [
    "print(a[5:11:-2])"
   ]
  },
  {
   "cell_type": "code",
   "execution_count": 2,
   "id": "c9d2e568",
   "metadata": {},
   "outputs": [
    {
     "data": {
      "text/plain": [
       "'Ashutosh pandey'"
      ]
     },
     "execution_count": 2,
     "metadata": {},
     "output_type": "execute_result"
    }
   ],
   "source": [
    "# string method \n",
    "name = \"ashutosh pandey\"\n",
    "name.capitalize()"
   ]
  },
  {
   "cell_type": "code",
   "execution_count": 3,
   "id": "8c3a35b5",
   "metadata": {},
   "outputs": [
    {
     "data": {
      "text/plain": [
       "'Ashutosh Pandey'"
      ]
     },
     "execution_count": 3,
     "metadata": {},
     "output_type": "execute_result"
    }
   ],
   "source": [
    "name.title()"
   ]
  },
  {
   "cell_type": "code",
   "execution_count": 4,
   "id": "adbacfac",
   "metadata": {},
   "outputs": [
    {
     "data": {
      "text/plain": [
       "'ASHUTOSH PANDEY'"
      ]
     },
     "execution_count": 4,
     "metadata": {},
     "output_type": "execute_result"
    }
   ],
   "source": [
    "name.upper()"
   ]
  },
  {
   "cell_type": "markdown",
   "id": "c1124a4d",
   "metadata": {},
   "source": []
  },
  {
   "cell_type": "code",
   "execution_count": 5,
   "id": "1b6f1d3c",
   "metadata": {},
   "outputs": [
    {
     "data": {
      "text/plain": [
       "'ashutosh pandey'"
      ]
     },
     "execution_count": 5,
     "metadata": {},
     "output_type": "execute_result"
    }
   ],
   "source": [
    "name.lower()"
   ]
  },
  {
   "cell_type": "code",
   "execution_count": 6,
   "id": "b8f4f2d7",
   "metadata": {},
   "outputs": [
    {
     "data": {
      "text/plain": [
       "0"
      ]
     },
     "execution_count": 6,
     "metadata": {},
     "output_type": "execute_result"
    }
   ],
   "source": [
    "name.find(\"a\")"
   ]
  },
  {
   "cell_type": "code",
   "execution_count": 7,
   "id": "890dd400",
   "metadata": {},
   "outputs": [
    {
     "data": {
      "text/plain": [
       "2"
      ]
     },
     "execution_count": 7,
     "metadata": {},
     "output_type": "execute_result"
    }
   ],
   "source": [
    "name.count('a')"
   ]
  },
  {
   "cell_type": "code",
   "execution_count": 8,
   "id": "9c4954aa",
   "metadata": {},
   "outputs": [
    {
     "data": {
      "text/plain": [
       "3"
      ]
     },
     "execution_count": 8,
     "metadata": {},
     "output_type": "execute_result"
    }
   ],
   "source": [
    "name.index('u')"
   ]
  },
  {
   "cell_type": "code",
   "execution_count": 9,
   "id": "147f70c0",
   "metadata": {},
   "outputs": [
    {
     "data": {
      "text/plain": [
       "'Ashutosh pAndey'"
      ]
     },
     "execution_count": 9,
     "metadata": {},
     "output_type": "execute_result"
    }
   ],
   "source": [
    "name.replace(\"a\" , \"A\")"
   ]
  },
  {
   "cell_type": "code",
   "execution_count": 10,
   "id": "b8308520",
   "metadata": {},
   "outputs": [
    {
     "data": {
      "text/plain": [
       "['ashutosh', 'pandey']"
      ]
     },
     "execution_count": 10,
     "metadata": {},
     "output_type": "execute_result"
    }
   ],
   "source": [
    "name.split()"
   ]
  },
  {
   "cell_type": "code",
   "execution_count": 12,
   "id": "cc1cb7d0",
   "metadata": {},
   "outputs": [
    {
     "data": {
      "text/plain": [
       "False"
      ]
     },
     "execution_count": 12,
     "metadata": {},
     "output_type": "execute_result"
    }
   ],
   "source": [
    "name.isupper()"
   ]
  },
  {
   "cell_type": "code",
   "execution_count": 11,
   "id": "3add9446",
   "metadata": {},
   "outputs": [
    {
     "data": {
      "text/plain": [
       "True"
      ]
     },
     "execution_count": 11,
     "metadata": {},
     "output_type": "execute_result"
    }
   ],
   "source": [
    "name.islower()"
   ]
  },
  {
   "cell_type": "code",
   "execution_count": 17,
   "id": "a55c841f",
   "metadata": {},
   "outputs": [
    {
     "name": "stdout",
     "output_type": "stream",
     "text": [
      "ashutosh pandey\n",
      "18\n",
      "hey my name is ashutosh pandey.my age is 18.\n"
     ]
    }
   ],
   "source": [
    "# string format\n",
    "name = input()\n",
    "age = int(input())\n",
    "print(f\"hey my name is {name}.my age is {age}.\")"
   ]
  },
  {
   "cell_type": "code",
   "execution_count": 21,
   "id": "5793fc42",
   "metadata": {},
   "outputs": [
    {
     "name": "stdout",
     "output_type": "stream",
     "text": [
      "it is a vowel\n",
      "e\n",
      "it is a vowel\n",
      "u\n",
      "it is a vowel\n",
      "i\n",
      "it is a vowel\n",
      "o\n",
      "it is a vowel\n",
      "o\n",
      "it is a vowel\n",
      "u\n",
      "it is a vowel\n",
      "o\n",
      "it is a vowel\n",
      "e\n",
      "it is a vowel\n",
      "e\n",
      "it is a vowel\n",
      "a\n",
      "it is a vowel\n",
      "o\n"
     ]
    }
   ],
   "source": [
    "statement = \"the quick brown fox jumps over the lazy dog\"\n",
    "for i in statement:\n",
    "    if(i==\"a\" or i==\"e\" or i==\"i\" or i==\"o\" or i==\"u\"):\n",
    "        print(\"it is a vowel\")\n",
    "        print(i)"
   ]
  },
  {
   "cell_type": "code",
   "execution_count": 25,
   "id": "c9fa182a",
   "metadata": {},
   "outputs": [
    {
     "name": "stdout",
     "output_type": "stream",
     "text": [
      "yes\n",
      "MOM\n"
     ]
    }
   ],
   "source": [
    "# string pallindrome\n",
    "\n",
    "#string palindrome means if you write a string their reverse is equal to their string\n",
    "\n",
    "a = \"MOM\"\n",
    "if a==a[::-1]:\n",
    "    print(\"yes\")\n",
    "    print(a)\n",
    "else:\n",
    "    print(\"no\")\n",
    "    \n"
   ]
  },
  {
   "cell_type": "code",
   "execution_count": 1,
   "id": "831747c3",
   "metadata": {},
   "outputs": [
    {
     "name": "stdout",
     "output_type": "stream",
     "text": [
      "<class 'list'>\n"
     ]
    }
   ],
   "source": [
    "# list in python\n",
    "a = list()\n",
    "print(type(a))"
   ]
  },
  {
   "cell_type": "code",
   "execution_count": 2,
   "id": "fd4b5486",
   "metadata": {},
   "outputs": [
    {
     "name": "stdout",
     "output_type": "stream",
     "text": [
      "<class 'list'>\n",
      "[1, 2, 3, 4, 5]\n"
     ]
    }
   ],
   "source": [
    "a = [1,2,3,4,5]\n",
    "print(type(a))\n",
    "print(a)"
   ]
  },
  {
   "cell_type": "code",
   "execution_count": 3,
   "id": "47cb531b",
   "metadata": {},
   "outputs": [
    {
     "name": "stdout",
     "output_type": "stream",
     "text": [
      "1\n"
     ]
    }
   ],
   "source": [
    "print(a[0])"
   ]
  },
  {
   "cell_type": "code",
   "execution_count": 4,
   "id": "83930f44",
   "metadata": {},
   "outputs": [
    {
     "name": "stdout",
     "output_type": "stream",
     "text": [
      "[2, 3, 4]\n"
     ]
    }
   ],
   "source": [
    "print(a[1:4:1])\n"
   ]
  },
  {
   "cell_type": "code",
   "execution_count": 10,
   "id": "7fa90ec0",
   "metadata": {},
   "outputs": [
    {
     "name": "stdout",
     "output_type": "stream",
     "text": [
      "[9, 2, 3, 4, 5]\n"
     ]
    }
   ],
   "source": [
    "a[0] = 9\n",
    "print(a)\n"
   ]
  },
  {
   "cell_type": "code",
   "execution_count": 11,
   "id": "d286eb10",
   "metadata": {},
   "outputs": [
    {
     "name": "stdout",
     "output_type": "stream",
     "text": [
      "1928997395264\n"
     ]
    }
   ],
   "source": [
    "print(id(a))"
   ]
  },
  {
   "cell_type": "code",
   "execution_count": 21,
   "id": "ec5ced19",
   "metadata": {},
   "outputs": [
    {
     "name": "stdout",
     "output_type": "stream",
     "text": [
      "9\n"
     ]
    }
   ],
   "source": [
    "# list slicing \n",
    "l = [1,4,7,9,3,8,2,13,56]\n",
    "print(len(l))"
   ]
  },
  {
   "cell_type": "code",
   "execution_count": 13,
   "id": "92a7b51d",
   "metadata": {},
   "outputs": [
    {
     "name": "stdout",
     "output_type": "stream",
     "text": [
      "[1, 4, 7, 9, 3]\n"
     ]
    }
   ],
   "source": [
    "print(l[::])"
   ]
  },
  {
   "cell_type": "code",
   "execution_count": 14,
   "id": "65dfb38b",
   "metadata": {
    "scrolled": true
   },
   "outputs": [
    {
     "name": "stdout",
     "output_type": "stream",
     "text": [
      "[]\n"
     ]
    }
   ],
   "source": [
    "print(l[1:5:-1])"
   ]
  },
  {
   "cell_type": "code",
   "execution_count": 15,
   "id": "b91f3c27",
   "metadata": {},
   "outputs": [
    {
     "name": "stdout",
     "output_type": "stream",
     "text": [
      "[]\n"
     ]
    }
   ],
   "source": [
    "print(l[0:5:-1])"
   ]
  },
  {
   "cell_type": "code",
   "execution_count": 24,
   "id": "ab6483af",
   "metadata": {},
   "outputs": [
    {
     "name": "stdout",
     "output_type": "stream",
     "text": [
      "[56]\n"
     ]
    }
   ],
   "source": [
    "print(l[:7:-1])"
   ]
  },
  {
   "cell_type": "code",
   "execution_count": 23,
   "id": "a0aa9228",
   "metadata": {},
   "outputs": [
    {
     "name": "stdout",
     "output_type": "stream",
     "text": [
      "[56, 2, 3]\n"
     ]
    }
   ],
   "source": [
    "print(l[-1:-6:-2])"
   ]
  },
  {
   "cell_type": "code",
   "execution_count": 22,
   "id": "565e5dfb",
   "metadata": {},
   "outputs": [
    {
     "name": "stdout",
     "output_type": "stream",
     "text": [
      "56\n"
     ]
    }
   ],
   "source": [
    "print(l[-1])"
   ]
  },
  {
   "cell_type": "code",
   "execution_count": null,
   "id": "1a25384f",
   "metadata": {},
   "outputs": [],
   "source": []
  },
  {
   "cell_type": "code",
   "execution_count": 16,
   "id": "a8bbe2a1",
   "metadata": {
    "scrolled": true
   },
   "outputs": [
    {
     "name": "stdout",
     "output_type": "stream",
     "text": [
      "[]\n"
     ]
    }
   ],
   "source": [
    "print(l[3:5:-1])\n"
   ]
  },
  {
   "cell_type": "code",
   "execution_count": 29,
   "id": "2f9d9744",
   "metadata": {},
   "outputs": [
    {
     "data": {
      "text/plain": [
       "1"
      ]
     },
     "execution_count": 29,
     "metadata": {},
     "output_type": "execute_result"
    }
   ],
   "source": [
    "# methods in list\n",
    "l = [2,4,6,8,10]\n",
    "l.count(2)"
   ]
  },
  {
   "cell_type": "code",
   "execution_count": 41,
   "id": "472a68ba",
   "metadata": {},
   "outputs": [
    {
     "name": "stdout",
     "output_type": "stream",
     "text": [
      "[]\n"
     ]
    }
   ],
   "source": [
    "print(l)\n"
   ]
  },
  {
   "cell_type": "code",
   "execution_count": 42,
   "id": "0fff08f2",
   "metadata": {},
   "outputs": [
    {
     "name": "stdout",
     "output_type": "stream",
     "text": [
      "6\n"
     ]
    }
   ],
   "source": [
    "l1 = [3,9,5,12,4,13]\n",
    "print(len(l1))"
   ]
  },
  {
   "cell_type": "code",
   "execution_count": 43,
   "id": "72a5f5f8",
   "metadata": {},
   "outputs": [
    {
     "data": {
      "text/plain": [
       "1"
      ]
     },
     "execution_count": 43,
     "metadata": {},
     "output_type": "execute_result"
    }
   ],
   "source": [
    "l1.count(3)"
   ]
  },
  {
   "cell_type": "code",
   "execution_count": 52,
   "id": "4710eaf4",
   "metadata": {},
   "outputs": [
    {
     "name": "stdout",
     "output_type": "stream",
     "text": [
      "[2, 2, 2, 2, 1, 1, 3, 9, 5, 12, 4, 13]\n"
     ]
    }
   ],
   "source": [
    "print(l1)"
   ]
  },
  {
   "cell_type": "code",
   "execution_count": 57,
   "id": "173f33c2",
   "metadata": {},
   "outputs": [
    {
     "name": "stdout",
     "output_type": "stream",
     "text": [
      "[1, 3, 5, 7, 9]\n"
     ]
    }
   ],
   "source": [
    "l2 = [1,3,5,7,9]\n",
    "print(l2)\n",
    "\n"
   ]
  },
  {
   "cell_type": "code",
   "execution_count": 58,
   "id": "270cbad4",
   "metadata": {},
   "outputs": [
    {
     "name": "stdout",
     "output_type": "stream",
     "text": [
      "[9, 1, 3, 5, 7, 9]\n"
     ]
    }
   ],
   "source": [
    "l2.insert(0,9)\n",
    "print(l2)"
   ]
  },
  {
   "cell_type": "code",
   "execution_count": 59,
   "id": "501aeb24",
   "metadata": {},
   "outputs": [
    {
     "data": {
      "text/plain": [
       "9"
      ]
     },
     "execution_count": 59,
     "metadata": {},
     "output_type": "execute_result"
    }
   ],
   "source": [
    "l2.pop()"
   ]
  },
  {
   "cell_type": "code",
   "execution_count": 62,
   "id": "70d24972",
   "metadata": {},
   "outputs": [
    {
     "name": "stdout",
     "output_type": "stream",
     "text": [
      "[1, 5, 7]\n"
     ]
    }
   ],
   "source": [
    "l2.remove(9)\n",
    "print(l2)"
   ]
  },
  {
   "cell_type": "code",
   "execution_count": 63,
   "id": "56a62922",
   "metadata": {},
   "outputs": [
    {
     "name": "stdout",
     "output_type": "stream",
     "text": [
      "[1, 5, 7]\n"
     ]
    }
   ],
   "source": [
    "print(l2)"
   ]
  },
  {
   "cell_type": "code",
   "execution_count": 70,
   "id": "62e4c2a7",
   "metadata": {},
   "outputs": [
    {
     "name": "stdout",
     "output_type": "stream",
     "text": [
      "[1, 3, 3, 3, 5, 7, [2, 2, 2, 2, 1, 1, 3, 9, 5, 12, 4, 13], [2, 2, 2, 2, 1, 1, 3, 9, 5, 12, 4, 13]]\n"
     ]
    }
   ],
   "source": [
    "l2.append(l1)\n",
    "print(l2)"
   ]
  },
  {
   "cell_type": "code",
   "execution_count": 68,
   "id": "36a3fb3f",
   "metadata": {},
   "outputs": [
    {
     "name": "stdout",
     "output_type": "stream",
     "text": [
      "[1, 3, 3, 3, 5, 7]\n"
     ]
    }
   ],
   "source": [
    "l2.insert(1,3)\n",
    "print(l2)"
   ]
  },
  {
   "cell_type": "code",
   "execution_count": 71,
   "id": "ee108920",
   "metadata": {},
   "outputs": [
    {
     "name": "stdout",
     "output_type": "stream",
     "text": [
      "[1, 2, 3, 4, 5, 6]\n"
     ]
    }
   ],
   "source": [
    "a = [1,2,3,4,5,6]\n",
    "print(a)\n"
   ]
  },
  {
   "cell_type": "code",
   "execution_count": 73,
   "id": "e0c506f1",
   "metadata": {},
   "outputs": [
    {
     "name": "stdout",
     "output_type": "stream",
     "text": [
      "[1, 3, 5, 7]\n"
     ]
    }
   ],
   "source": [
    "a1 = [1,3,5,7]\n",
    "print(a1)\n"
   ]
  },
  {
   "cell_type": "code",
   "execution_count": 76,
   "id": "a16ae9eb",
   "metadata": {},
   "outputs": [
    {
     "name": "stdout",
     "output_type": "stream",
     "text": [
      "[1, 2, 3, 4, 5, 6, [1, 3, 5, 7], [1, 3, 5, 7], [1, 3, 5, 7]]\n"
     ]
    }
   ],
   "source": [
    "a.append(a1)\n",
    "print(a)\n"
   ]
  },
  {
   "cell_type": "code",
   "execution_count": 77,
   "id": "66bfc3c9",
   "metadata": {},
   "outputs": [
    {
     "name": "stdout",
     "output_type": "stream",
     "text": [
      "[1, 2, 3, 4, 5, 6, [1, 3, 5, 7], [1, 3, 5, 7], [1, 3, 5, 7], 1, 3, 5, 7]\n"
     ]
    }
   ],
   "source": [
    "a.extend(a1)\n",
    "print(a)"
   ]
  },
  {
   "cell_type": "code",
   "execution_count": 78,
   "id": "cbf2b253",
   "metadata": {},
   "outputs": [
    {
     "name": "stdout",
     "output_type": "stream",
     "text": [
      "[1, 2, 3, 4, 5]\n"
     ]
    }
   ],
   "source": [
    "s = [1,2,3,4,5]\n",
    "print(s)"
   ]
  },
  {
   "cell_type": "code",
   "execution_count": 79,
   "id": "e5ed3c04",
   "metadata": {},
   "outputs": [
    {
     "name": "stdout",
     "output_type": "stream",
     "text": [
      "[2, 3, 4, 66, 7]\n"
     ]
    }
   ],
   "source": [
    "s1 = [2,3,4,66,7]\n",
    "print(s1)\n"
   ]
  },
  {
   "cell_type": "code",
   "execution_count": 80,
   "id": "5e1a4c15",
   "metadata": {},
   "outputs": [
    {
     "name": "stdout",
     "output_type": "stream",
     "text": [
      "[1, 2, 3, 4, 5, [2, 3, 4, 66, 7]]\n"
     ]
    }
   ],
   "source": [
    "s.append(s1)\n",
    "print(s)"
   ]
  },
  {
   "cell_type": "code",
   "execution_count": 81,
   "id": "9b97c3df",
   "metadata": {},
   "outputs": [
    {
     "name": "stdout",
     "output_type": "stream",
     "text": [
      "[1, 2, 3, 4, 5, [2, 3, 4, 66, 7], 2, 3, 4, 66, 7]\n"
     ]
    }
   ],
   "source": [
    "s.extend(s1)\n",
    "print(s)"
   ]
  },
  {
   "cell_type": "code",
   "execution_count": 82,
   "id": "73bf6355",
   "metadata": {},
   "outputs": [
    {
     "name": "stdout",
     "output_type": "stream",
     "text": [
      "<class 'int'> <class 'str'> <class 'float'> <class 'bool'>\n"
     ]
    }
   ],
   "source": [
    "# heterogenous list is a type of list in which different type of data types present in same list\n",
    "l = [2,\"ashu\",1.5,True]\n",
    "print(type(2), type(\"ashu\"), type(1.5), type(True))"
   ]
  },
  {
   "cell_type": "code",
   "execution_count": 83,
   "id": "7ca565cb",
   "metadata": {},
   "outputs": [
    {
     "name": "stdout",
     "output_type": "stream",
     "text": [
      "2\n",
      "ashu\n",
      "1.5\n",
      "True\n"
     ]
    }
   ],
   "source": [
    "for i in l:\n",
    "    print(i)"
   ]
  },
  {
   "cell_type": "code",
   "execution_count": 84,
   "id": "8b80fd8f",
   "metadata": {},
   "outputs": [
    {
     "name": "stdout",
     "output_type": "stream",
     "text": [
      "[[1, 2, 3], [4, 5, 6], [7, 8, 9]]\n"
     ]
    }
   ],
   "source": [
    "# 2d list in python\n",
    "a1 = [1,2,3]\n",
    "a2 = [4,5,6]\n",
    "a3 = [7,8,9]\n",
    "a = [a1,a2,a3]\n",
    "print(a)"
   ]
  },
  {
   "cell_type": "code",
   "execution_count": 87,
   "id": "f4770bb4",
   "metadata": {},
   "outputs": [
    {
     "data": {
      "text/plain": [
       "3"
      ]
     },
     "execution_count": 87,
     "metadata": {},
     "output_type": "execute_result"
    }
   ],
   "source": [
    "# indexing in 2d list\n",
    "a[0][2]\n",
    "\n"
   ]
  },
  {
   "cell_type": "code",
   "execution_count": 88,
   "id": "68e412a2",
   "metadata": {},
   "outputs": [
    {
     "data": {
      "text/plain": [
       "9"
      ]
     },
     "execution_count": 88,
     "metadata": {},
     "output_type": "execute_result"
    }
   ],
   "source": [
    "a[2][2]"
   ]
  },
  {
   "cell_type": "code",
   "execution_count": 89,
   "id": "829c24df",
   "metadata": {},
   "outputs": [
    {
     "data": {
      "text/plain": [
       "1"
      ]
     },
     "execution_count": 89,
     "metadata": {},
     "output_type": "execute_result"
    }
   ],
   "source": [
    "a[0][0]"
   ]
  },
  {
   "cell_type": "code",
   "execution_count": 90,
   "id": "8fcd1ae7",
   "metadata": {},
   "outputs": [
    {
     "data": {
      "text/plain": [
       "6"
      ]
     },
     "execution_count": 90,
     "metadata": {},
     "output_type": "execute_result"
    }
   ],
   "source": [
    "a[1][2]"
   ]
  },
  {
   "cell_type": "code",
   "execution_count": 91,
   "id": "03431c88",
   "metadata": {},
   "outputs": [
    {
     "data": {
      "text/plain": [
       "4"
      ]
     },
     "execution_count": 91,
     "metadata": {},
     "output_type": "execute_result"
    }
   ],
   "source": [
    "a[1][0]"
   ]
  },
  {
   "cell_type": "code",
   "execution_count": 92,
   "id": "b94648ad",
   "metadata": {},
   "outputs": [
    {
     "name": "stdout",
     "output_type": "stream",
     "text": [
      "[[1, 2, 3], [4, 5, 6], [7, 8, 9]]\n",
      "[[1, 2, 3], [4, 5, 6], [7, 8, 9]]\n",
      "[[1, 2, 3], [4, 5, 6], [7, 8, 9]]\n"
     ]
    }
   ],
   "source": [
    "# iteration in list\n",
    "for i in a:\n",
    "    print(a)\n",
    "    \n"
   ]
  },
  {
   "cell_type": "code",
   "execution_count": 93,
   "id": "cb2ee55b",
   "metadata": {},
   "outputs": [
    {
     "name": "stdout",
     "output_type": "stream",
     "text": [
      "[1, 2, 3]\n",
      "[1, 2, 3]\n",
      "[1, 2, 3]\n"
     ]
    }
   ],
   "source": [
    "for i in a1:\n",
    "    print(a1)"
   ]
  },
  {
   "cell_type": "code",
   "execution_count": 94,
   "id": "7783af40",
   "metadata": {},
   "outputs": [
    {
     "name": "stdout",
     "output_type": "stream",
     "text": [
      "1\n",
      "2\n",
      "3\n",
      "4\n",
      "5\n",
      "6\n",
      "7\n",
      "8\n",
      "9\n"
     ]
    }
   ],
   "source": [
    "for i in a:\n",
    "    for j in i:\n",
    "        print(j)"
   ]
  },
  {
   "cell_type": "code",
   "execution_count": 95,
   "id": "a2d4810a",
   "metadata": {},
   "outputs": [
    {
     "name": "stdout",
     "output_type": "stream",
     "text": [
      "[0, 1, 8, 27, 64]\n"
     ]
    }
   ],
   "source": [
    "# list comprehension\n",
    "\n",
    "l = [(i**3) for i in range(5)]\n",
    "print(l)"
   ]
  },
  {
   "cell_type": "code",
   "execution_count": 102,
   "id": "aa3cecbb",
   "metadata": {},
   "outputs": [
    {
     "name": "stdout",
     "output_type": "stream",
     "text": [
      "[0, 1, 8, 27, 64]\n"
     ]
    }
   ],
   "source": [
    "l =[]\n",
    "for i in range(5):\n",
    "    l.append(i**3)\n",
    "print(l)"
   ]
  },
  {
   "cell_type": "code",
   "execution_count": 106,
   "id": "a61dd38a",
   "metadata": {},
   "outputs": [
    {
     "name": "stdout",
     "output_type": "stream",
     "text": [
      "['Jadeja', 'Rahul', 'Rohit', 'Dhoni', 'Virat']\n"
     ]
    }
   ],
   "source": [
    "players = ['Jadeja','Rahul','Rohit']\n",
    "players[len(players):] = ['Dhoni','Virat']\n",
    "print(players)"
   ]
  },
  {
   "cell_type": "code",
   "execution_count": 108,
   "id": "37bcf622",
   "metadata": {},
   "outputs": [
    {
     "name": "stdout",
     "output_type": "stream",
     "text": [
      "['S', 'c', 'a', 'l', 'e', 'r', ' ', 'D', 'a', 't', 'a', ' ', 'S', 'c', 'i', 'e', 'n', 'c', 'e', ' ', 'C', 'o', 'u', 'r', 's', 'e']\n"
     ]
    }
   ],
   "source": [
    "word = \"Scaler Data Science Course\"\n",
    "word_list = list(word)\n",
    "print(word_list)"
   ]
  },
  {
   "cell_type": "code",
   "execution_count": 1,
   "id": "4ca2defb",
   "metadata": {},
   "outputs": [
    {
     "name": "stdout",
     "output_type": "stream",
     "text": [
      "<class 'tuple'>\n"
     ]
    }
   ],
   "source": [
    "# tuple in python\n",
    "a = (\"dustin\", \"steve\", \"will\", \"mike\", \"lucas\")\n",
    "print(type(a))\n",
    "     "
   ]
  },
  {
   "cell_type": "code",
   "execution_count": 5,
   "id": "7031f7ff",
   "metadata": {},
   "outputs": [
    {
     "name": "stdout",
     "output_type": "stream",
     "text": [
      "steve\n"
     ]
    }
   ],
   "source": [
    "print(a[1])"
   ]
  },
  {
   "cell_type": "code",
   "execution_count": 6,
   "id": "a6efc6fd",
   "metadata": {},
   "outputs": [
    {
     "name": "stdout",
     "output_type": "stream",
     "text": [
      "()\n"
     ]
    }
   ],
   "source": [
    "# empty tuple\n",
    "a = tuple()\n",
    "print(a)"
   ]
  },
  {
   "cell_type": "code",
   "execution_count": 8,
   "id": "a5e6f2bd",
   "metadata": {},
   "outputs": [
    {
     "name": "stdout",
     "output_type": "stream",
     "text": [
      "(2, 4)\n",
      "<class 'tuple'>\n"
     ]
    }
   ],
   "source": [
    "t = (2,4)\n",
    "print(t)\n",
    "print(type(t))"
   ]
  },
  {
   "cell_type": "code",
   "execution_count": 9,
   "id": "0bc12358",
   "metadata": {},
   "outputs": [
    {
     "name": "stdout",
     "output_type": "stream",
     "text": [
      "<class 'tuple'>\n"
     ]
    }
   ],
   "source": [
    "t1 = (2,)\n",
    "print(type(t1))"
   ]
  },
  {
   "cell_type": "code",
   "execution_count": 10,
   "id": "24a466f9",
   "metadata": {},
   "outputs": [
    {
     "name": "stdout",
     "output_type": "stream",
     "text": [
      "<class 'tuple'>\n"
     ]
    }
   ],
   "source": [
    "t2 = ([1,3], [4,5])\n",
    "print(type(t2))"
   ]
  },
  {
   "cell_type": "code",
   "execution_count": 14,
   "id": "a79d0f9e",
   "metadata": {
    "scrolled": true
   },
   "outputs": [
    {
     "data": {
      "text/plain": [
       "[1, 3]"
      ]
     },
     "execution_count": 14,
     "metadata": {},
     "output_type": "execute_result"
    }
   ],
   "source": [
    "t2[0]"
   ]
  },
  {
   "cell_type": "code",
   "execution_count": 15,
   "id": "72b630c2",
   "metadata": {},
   "outputs": [
    {
     "name": "stdout",
     "output_type": "stream",
     "text": [
      "<class 'tuple'>\n"
     ]
    }
   ],
   "source": [
    "# mutability of tuple in python\n",
    "t = ([1,2,3], \"ashutosh\")\n",
    "print(type(t))     \n"
   ]
  },
  {
   "cell_type": "code",
   "execution_count": 16,
   "id": "45f4b82b",
   "metadata": {},
   "outputs": [
    {
     "name": "stdout",
     "output_type": "stream",
     "text": [
      "([56, 2, 3], 'ashutosh')\n"
     ]
    }
   ],
   "source": [
    "t[0][0] = 56\n",
    "print(t)"
   ]
  },
  {
   "cell_type": "code",
   "execution_count": 17,
   "id": "828fcc92",
   "metadata": {},
   "outputs": [
    {
     "name": "stdout",
     "output_type": "stream",
     "text": [
      "(1, 3, 5, 7)\n"
     ]
    }
   ],
   "source": [
    "# tuple unpacking\n",
    "t = (1,3,5,7)\n",
    "a,b,c,d = t\n",
    "print(t)"
   ]
  },
  {
   "cell_type": "code",
   "execution_count": 19,
   "id": "fd93f041",
   "metadata": {},
   "outputs": [
    {
     "name": "stdout",
     "output_type": "stream",
     "text": [
      "30\n"
     ]
    }
   ],
   "source": [
    "a = (10,20,30,40)\n",
    "print(a[2])    "
   ]
  },
  {
   "cell_type": "code",
   "execution_count": 31,
   "id": "dbb89821",
   "metadata": {},
   "outputs": [
    {
     "name": "stdout",
     "output_type": "stream",
     "text": [
      "1\n",
      "3\n",
      "48\n",
      "104\n",
      "182\n",
      "272\n",
      "284\n",
      "318\n",
      "374\n",
      "452\n"
     ]
    }
   ],
   "source": [
    "population = 0\n",
    "l = [1,2,45,56,78,90,12,34,56,78]\n",
    "for i in l:\n",
    "    population+= i\n",
    "    \n",
    "    print(population)\n",
    "    \n"
   ]
  },
  {
   "cell_type": "code",
   "execution_count": null,
   "id": "0239a910",
   "metadata": {},
   "outputs": [],
   "source": []
  },
  {
   "cell_type": "code",
   "execution_count": 2,
   "id": "7b13864d",
   "metadata": {},
   "outputs": [
    {
     "name": "stdout",
     "output_type": "stream",
     "text": [
      "<class 'dict'>\n",
      "{}\n"
     ]
    }
   ],
   "source": [
    "# dictionary \n",
    "d ={}\n",
    "print(type(d))\n",
    "print(d)"
   ]
  },
  {
   "cell_type": "code",
   "execution_count": 1,
   "id": "96a3abc7",
   "metadata": {},
   "outputs": [
    {
     "name": "stdout",
     "output_type": "stream",
     "text": [
      "{'virat kholi': 76, 'rohit sharma': 9, 'shivam dube': 27}\n",
      "<class 'dict'>\n"
     ]
    }
   ],
   "source": [
    "players = {\n",
    "    \"virat kholi\": 76,\n",
    "    \"rohit sharma\": 9,\n",
    "    \"shivam dube\": 27,\n",
    "}\n",
    "print(players)\n",
    "print(type(players))"
   ]
  },
  {
   "cell_type": "code",
   "execution_count": 8,
   "id": "8c0b10ba",
   "metadata": {},
   "outputs": [
    {
     "name": "stdout",
     "output_type": "stream",
     "text": [
      "{'virat': 76, 'rohit': 9, 'shivam': 27}\n"
     ]
    }
   ],
   "source": [
    "a = [\"virat\", \"rohit\", \"shivam\"]\n",
    "runs = [76,9,27]\n",
    "players1 = dict(zip(a,runs))\n",
    "print(players1)"
   ]
  },
  {
   "cell_type": "code",
   "execution_count": 25,
   "id": "92248be3",
   "metadata": {},
   "outputs": [
    {
     "name": "stdout",
     "output_type": "stream",
     "text": [
      "{'mango': 100, 'apple': 120, 'grapes': 150}\n"
     ]
    }
   ],
   "source": [
    "fruits = {\n",
    "    \"mango\" : 100,\n",
    "    \"apple\" : 120,\n",
    "    \"grapes\" : 150\n",
    "}\n",
    "print(fruits)\n"
   ]
  },
  {
   "cell_type": "code",
   "execution_count": 24,
   "id": "271f3b1c",
   "metadata": {},
   "outputs": [
    {
     "name": "stdout",
     "output_type": "stream",
     "text": [
      "{'mango': 100, 'grapes': 120, 'apple': 140}\n",
      "mango\n",
      "grapes\n"
     ]
    }
   ],
   "source": [
    "a = [\"mango\", \"grapes\", \"apple\"]\n",
    "b = [100,120,140]\n",
    "fruits1 = dict(zip(a, b))\n",
    "print(fruits1)\n",
    "a[0]\n",
    "print(a[0])\n",
    "print(a[1])\n"
   ]
  },
  {
   "cell_type": "code",
   "execution_count": 22,
   "id": "c84c4797",
   "metadata": {},
   "outputs": [
    {
     "data": {
      "text/plain": [
       "'not available'"
      ]
     },
     "execution_count": 22,
     "metadata": {},
     "output_type": "execute_result"
    }
   ],
   "source": [
    "# avoid error in python use get method\n",
    "fruits.get(\"guava\", \"not available\")\n"
   ]
  },
  {
   "cell_type": "code",
   "execution_count": 26,
   "id": "1c820b8e",
   "metadata": {},
   "outputs": [
    {
     "data": {
      "text/plain": [
       "{'mango': 100, 'apple': 120, 'grapes': 150}"
      ]
     },
     "execution_count": 26,
     "metadata": {},
     "output_type": "execute_result"
    }
   ],
   "source": [
    "fruits"
   ]
  },
  {
   "cell_type": "code",
   "execution_count": 27,
   "id": "75cd4135",
   "metadata": {},
   "outputs": [
    {
     "name": "stdout",
     "output_type": "stream",
     "text": [
      "{'mango': {'small: 50', 'large: 70'}, 'apple': 120, 'grapes': 150}\n"
     ]
    }
   ],
   "source": [
    "fruits[\"mango\"] = {\"small: 50\", \"large: 70\"}\n",
    "print(fruits)"
   ]
  },
  {
   "cell_type": "code",
   "execution_count": 14,
   "id": "260aff37",
   "metadata": {},
   "outputs": [
    {
     "ename": "NameError",
     "evalue": "name 'fruits' is not defined",
     "output_type": "error",
     "traceback": [
      "\u001b[1;31m---------------------------------------------------------------------------\u001b[0m",
      "\u001b[1;31mNameError\u001b[0m                                 Traceback (most recent call last)",
      "Cell \u001b[1;32mIn[14], line 2\u001b[0m\n\u001b[0;32m      1\u001b[0m \u001b[38;5;66;03m# updating dictionary\u001b[39;00m\n\u001b[1;32m----> 2\u001b[0m fruits[\u001b[38;5;124m\"\u001b[39m\u001b[38;5;124moranges\u001b[39m\u001b[38;5;124m\"\u001b[39m, \u001b[38;5;124m\"\u001b[39m\u001b[38;5;124mlitchi\u001b[39m\u001b[38;5;124m\"\u001b[39m, \u001b[38;5;124m\"\u001b[39m\u001b[38;5;124mstrawberry\u001b[39m\u001b[38;5;124m\"\u001b[39m] \u001b[38;5;241m=\u001b[39m{\u001b[38;5;241m80\u001b[39m,\u001b[38;5;241m100\u001b[39m,\u001b[38;5;241m120\u001b[39m}\n\u001b[0;32m      3\u001b[0m \u001b[38;5;28mprint\u001b[39m(fruits)\n",
      "\u001b[1;31mNameError\u001b[0m: name 'fruits' is not defined"
     ]
    }
   ],
   "source": [
    "# updating dictionary\n",
    "fruits[\"oranges\", \"litchi\", \"strawberry\"] ={80,100,120}\n",
    "print(fruits)\n"
   ]
  },
  {
   "cell_type": "code",
   "execution_count": 37,
   "id": "6021dcd0",
   "metadata": {},
   "outputs": [
    {
     "data": {
      "text/plain": [
       "150"
      ]
     },
     "execution_count": 37,
     "metadata": {},
     "output_type": "execute_result"
    }
   ],
   "source": [
    "# delteting operations in dictionary\n",
    "fruits.pop(\"grapes\")\n"
   ]
  },
  {
   "cell_type": "code",
   "execution_count": 38,
   "id": "03104be4",
   "metadata": {},
   "outputs": [
    {
     "name": "stdout",
     "output_type": "stream",
     "text": [
      "{'mango': {'small: 50', 'large: 70'}, ('oranges', 'litchi', 'strawberry'): {80, 100, 120}}\n"
     ]
    }
   ],
   "source": [
    "print(fruits)"
   ]
  },
  {
   "cell_type": "code",
   "execution_count": 40,
   "id": "d845f47b",
   "metadata": {},
   "outputs": [
    {
     "data": {
      "text/plain": [
       "(('oranges', 'litchi', 'strawberry'), {80, 100, 120})"
      ]
     },
     "execution_count": 40,
     "metadata": {},
     "output_type": "execute_result"
    }
   ],
   "source": [
    "fruits.popitem()"
   ]
  },
  {
   "cell_type": "code",
   "execution_count": 43,
   "id": "9419a853",
   "metadata": {},
   "outputs": [
    {
     "name": "stdout",
     "output_type": "stream",
     "text": [
      "['mango', 'grapes', 'apple']\n"
     ]
    }
   ],
   "source": [
    "print(a)"
   ]
  },
  {
   "cell_type": "code",
   "execution_count": 45,
   "id": "de2b3611",
   "metadata": {},
   "outputs": [
    {
     "name": "stdout",
     "output_type": "stream",
     "text": [
      "{'mango': 100, 'apple': 120, 'grapes': 150}\n"
     ]
    }
   ],
   "source": [
    "fruits = {\n",
    "    \"mango\" : 100,\n",
    "    \"apple\" : 120,\n",
    "    \"grapes\" : 150\n",
    "}\n",
    "print(fruits)"
   ]
  },
  {
   "cell_type": "code",
   "execution_count": 46,
   "id": "dae47065",
   "metadata": {},
   "outputs": [
    {
     "name": "stdout",
     "output_type": "stream",
     "text": [
      "mango\n",
      "apple\n",
      "grapes\n"
     ]
    }
   ],
   "source": [
    "# iteration in dictionary\n",
    "for i in fruits:\n",
    "    print(i)"
   ]
  },
  {
   "cell_type": "code",
   "execution_count": 47,
   "id": "9079f7f1",
   "metadata": {},
   "outputs": [
    {
     "name": "stdout",
     "output_type": "stream",
     "text": [
      "mango 100\n",
      "apple 120\n",
      "grapes 150\n"
     ]
    }
   ],
   "source": [
    "for i in fruits:\n",
    "    print(i, fruits[i])"
   ]
  },
  {
   "cell_type": "code",
   "execution_count": 51,
   "id": "853b2fea",
   "metadata": {},
   "outputs": [
    {
     "name": "stdout",
     "output_type": "stream",
     "text": [
      "mango 100\n",
      "apple 120\n",
      "grapes 150\n"
     ]
    }
   ],
   "source": [
    "for key, value in fruits.items():\n",
    "    print(key, value)"
   ]
  },
  {
   "cell_type": "code",
   "execution_count": 54,
   "id": "b2007036",
   "metadata": {},
   "outputs": [
    {
     "data": {
      "text/plain": [
       "dict_keys(['mango', 'apple', 'grapes'])"
      ]
     },
     "execution_count": 54,
     "metadata": {},
     "output_type": "execute_result"
    }
   ],
   "source": [
    "fruits.keys()\n"
   ]
  },
  {
   "cell_type": "code",
   "execution_count": 56,
   "id": "0fec178e",
   "metadata": {},
   "outputs": [
    {
     "data": {
      "text/plain": [
       "dict_values([100, 120, 150])"
      ]
     },
     "execution_count": 56,
     "metadata": {},
     "output_type": "execute_result"
    }
   ],
   "source": [
    "fruits.values()"
   ]
  },
  {
   "cell_type": "code",
   "execution_count": 57,
   "id": "2db7d477",
   "metadata": {},
   "outputs": [
    {
     "data": {
      "text/plain": [
       "dict_items([('mango', 100), ('apple', 120), ('grapes', 150)])"
      ]
     },
     "execution_count": 57,
     "metadata": {},
     "output_type": "execute_result"
    }
   ],
   "source": [
    "fruits.items()"
   ]
  },
  {
   "cell_type": "code",
   "execution_count": 2,
   "id": "a552881d",
   "metadata": {},
   "outputs": [
    {
     "name": "stdout",
     "output_type": "stream",
     "text": [
      "<class 'dict'>\n"
     ]
    }
   ],
   "source": [
    "# SETS in python\n",
    "s = {}\n",
    "print(type(s))"
   ]
  },
  {
   "cell_type": "code",
   "execution_count": 4,
   "id": "4fbe5f98",
   "metadata": {},
   "outputs": [
    {
     "name": "stdout",
     "output_type": "stream",
     "text": [
      "<class 'set'>\n",
      "set()\n"
     ]
    }
   ],
   "source": [
    "s = set()\n",
    "print(type(s))\n",
    "print(s)"
   ]
  },
  {
   "cell_type": "code",
   "execution_count": 5,
   "id": "9fc2b9e2",
   "metadata": {},
   "outputs": [
    {
     "name": "stdout",
     "output_type": "stream",
     "text": [
      "<class 'set'>\n",
      "{1, 2, 3, 4, 5}\n"
     ]
    }
   ],
   "source": [
    "s = {1,1,2,2,3,3,4,4,5,5}\n",
    "print(type(s))\n",
    "print(s)\n",
    "\n"
   ]
  },
  {
   "cell_type": "code",
   "execution_count": 7,
   "id": "f85689e8",
   "metadata": {},
   "outputs": [
    {
     "name": "stdout",
     "output_type": "stream",
     "text": [
      "{'o', 't', 'd', 's', 'u', 'e', ' ', 'n', 'h', 'y', 'p', 'a'}\n"
     ]
    }
   ],
   "source": [
    "s = set(\"ashutosh pandey\")\n",
    "print(s)\n",
    "# because set is unordered\n"
   ]
  },
  {
   "cell_type": "code",
   "execution_count": 8,
   "id": "20557242",
   "metadata": {},
   "outputs": [
    {
     "name": "stdout",
     "output_type": "stream",
     "text": [
      "E\n",
      "A\n",
      "Y\n",
      "P\n",
      "N\n",
      "D\n"
     ]
    }
   ],
   "source": [
    "# iteration in sets\n",
    "s1 = set(\"PANDEY\")\n",
    "for i in s1:\n",
    "    print(i)"
   ]
  },
  {
   "cell_type": "code",
   "execution_count": 11,
   "id": "c9374218",
   "metadata": {},
   "outputs": [
    {
     "name": "stdout",
     "output_type": "stream",
     "text": [
      "{'o', 'H', 't', 'S', 'd', 's', 'u', 'e', ' ', 'n', 'O', 'h', 'y', 'T', 'p', 'a'}\n"
     ]
    }
   ],
   "source": [
    "# sets operations\n",
    "# update\n",
    "print(s)\n",
    "name = \"HANU\"\n",
    "s.update(name)"
   ]
  },
  {
   "cell_type": "code",
   "execution_count": 12,
   "id": "75229095",
   "metadata": {},
   "outputs": [
    {
     "name": "stdout",
     "output_type": "stream",
     "text": [
      "<class 'set'>\n",
      "{1, 2, 3, 4, 5, 'T', 'E', 'V', 'S'}\n"
     ]
    }
   ],
   "source": [
    "s2 = {1,2,3,4,5}\n",
    "name1 = \"STEVE\"\n",
    "s2.update(name1)\n",
    "print(type(s2))\n",
    "print(s2)"
   ]
  },
  {
   "cell_type": "code",
   "execution_count": null,
   "id": "b9cb2ffe",
   "metadata": {},
   "outputs": [],
   "source": [
    "# pop method"
   ]
  },
  {
   "cell_type": "code",
   "execution_count": 21,
   "id": "7d6de364",
   "metadata": {},
   "outputs": [
    {
     "data": {
      "text/plain": [
       "'O'"
      ]
     },
     "execution_count": 21,
     "metadata": {},
     "output_type": "execute_result"
    }
   ],
   "source": [
    "\n",
    "s.pop()\n"
   ]
  },
  {
   "cell_type": "code",
   "execution_count": 36,
   "id": "d6682cf9",
   "metadata": {},
   "outputs": [
    {
     "name": "stdout",
     "output_type": "stream",
     "text": [
      "set()\n"
     ]
    }
   ],
   "source": [
    "# intersection in python\n",
    "python = {\"ashutosh\", \"vansh\", \"steve\", \"dustin\"}\n",
    "java = {\"dhruv\", \"ashutosh\", \"ajay\", \"vishal\"}\n",
    "python.intersection(java)\n",
    "print(python.intersection(java))"
   ]
  },
  {
   "cell_type": "code",
   "execution_count": 39,
   "id": "00f4095e",
   "metadata": {},
   "outputs": [
    {
     "data": {
      "text/plain": [
       "{'ajay', 'ashutosh', 'dhruv', 'dustin', 'mohit', 'steve', 'vansh', 'vishal'}"
      ]
     },
     "execution_count": 39,
     "metadata": {},
     "output_type": "execute_result"
    }
   ],
   "source": [
    "# union\n",
    "python.union(java)"
   ]
  },
  {
   "cell_type": "code",
   "execution_count": 10,
   "id": "6aa76a86",
   "metadata": {},
   "outputs": [
    {
     "name": "stdout",
     "output_type": "stream",
     "text": [
      "helo world\n"
     ]
    }
   ],
   "source": [
    "git = {\"ashutosh\", \"vansh\", \"dhruv\", \"aman\"}\n",
    "javascript = {\"ashutosh\", \"mohit\", \"ajay\", \"vishal\"}\n",
    "git.intersection(javascript)\n",
    "javascript.intersection(git)\n",
    "git.union(javascript)\n",
    "git.difference(javascript)\n",
    "print(\"helo world\")\n"
   ]
  },
  {
   "cell_type": "code",
   "execution_count": 103,
   "id": "f6e40876-4d31-4b14-850e-8dec3df1eda6",
   "metadata": {
    "tags": []
   },
   "outputs": [
    {
     "name": "stdin",
     "output_type": "stream",
     "text": [
      " ashutosh pandey\n"
     ]
    },
    {
     "data": {
      "text/plain": [
       "'ashutosh pandey'"
      ]
     },
     "execution_count": 103,
     "metadata": {},
     "output_type": "execute_result"
    }
   ],
   "source": [
    "name = input()\n",
    "name\n"
   ]
  },
  {
   "cell_type": "code",
   "execution_count": 105,
   "id": "0520fb13-b245-4dc3-80e0-18b95e2b2766",
   "metadata": {
    "tags": []
   },
   "outputs": [
    {
     "name": "stdout",
     "output_type": "stream",
     "text": [
      "a\n",
      "s\n",
      "h\n",
      "u\n",
      "t\n",
      "o\n",
      "s\n",
      "h\n",
      " \n",
      "p\n",
      "a\n",
      "n\n",
      "d\n",
      "e\n",
      "y\n"
     ]
    }
   ],
   "source": [
    "for i in name:\n",
    "    print(i)"
   ]
  },
  {
   "cell_type": "code",
   "execution_count": 109,
   "id": "84b4bbdf-29b8-4f37-8ea9-9d96ed1de297",
   "metadata": {
    "tags": []
   },
   "outputs": [
    {
     "name": "stdout",
     "output_type": "stream",
     "text": [
      "{'a': 2, 's': 2, 'h': 2, 'u': 1, 't': 1, 'o': 1, ' ': 1, 'p': 1, 'n': 1, 'd': 1, 'e': 1, 'y': 1}\n"
     ]
    }
   ],
   "source": [
    "freq = {}\n",
    "for i in name:\n",
    "    if i not in freq:\n",
    "        freq[i] = 1\n",
    "    else:\n",
    "        freq[i] += 1\n",
    "        \n",
    "print(freq)        "
   ]
  },
  {
   "cell_type": "code",
   "execution_count": 15,
   "id": "a2a6cc2c",
   "metadata": {},
   "outputs": [
    {
     "name": "stdout",
     "output_type": "stream",
     "text": [
      "hey,good morning\n",
      "None\n"
     ]
    }
   ],
   "source": [
    "# function in python\n",
    "\n",
    "def greet():\n",
    "    print(\"hey,good morning\")\n",
    "print(greet())"
   ]
  },
  {
   "cell_type": "code",
   "execution_count": 23,
   "id": "4f205e74",
   "metadata": {},
   "outputs": [
    {
     "name": "stdout",
     "output_type": "stream",
     "text": [
      "how,are you ASHUTOSH\n",
      "None\n"
     ]
    }
   ],
   "source": [
    "# parameters and argument\n",
    "def greet(name):\n",
    "    print(\"how,are you\",name)\n",
    "print(greet(\"ASHUTOSH\"))    "
   ]
  },
  {
   "cell_type": "code",
   "execution_count": 19,
   "id": "c90eccc5",
   "metadata": {},
   "outputs": [
    {
     "name": "stdout",
     "output_type": "stream",
     "text": [
      "7\n",
      "None\n"
     ]
    }
   ],
   "source": [
    "def add(a,b):\n",
    "    c = a + b\n",
    "    print(c)\n",
    "print(add(3,4))    "
   ]
  },
  {
   "cell_type": "code",
   "execution_count": null,
   "id": "4da49bb5",
   "metadata": {},
   "outputs": [],
   "source": [
    "def add(a,b):\n",
    "    c = a + b\n",
    "    return c"
   ]
  },
  {
   "cell_type": "code",
   "execution_count": 30,
   "id": "36e67f40",
   "metadata": {},
   "outputs": [
    {
     "name": "stdout",
     "output_type": "stream",
     "text": [
      "7\n",
      "None\n",
      "<class 'NoneType'>\n"
     ]
    }
   ],
   "source": [
    "b = add(3,4)\n",
    "print(b)\n",
    "print(type(b))"
   ]
  },
  {
   "cell_type": "code",
   "execution_count": 41,
   "id": "855ef737",
   "metadata": {},
   "outputs": [
    {
     "name": "stdout",
     "output_type": "stream",
     "text": [
      "befor return\n",
      "ashu\n",
      "befor return\n",
      "ashu\n"
     ]
    }
   ],
   "source": [
    "def func():\n",
    "    print(\"befor return\")\n",
    "    return(\"ashu\")\n",
    "    print(\"after return\")\n",
    "    \n",
    "print(func())\n",
    "a = func()\n",
    "print(a)\n",
    "\n",
    "    "
   ]
  },
  {
   "cell_type": "code",
   "execution_count": 39,
   "id": "ba516099",
   "metadata": {},
   "outputs": [
    {
     "name": "stdout",
     "output_type": "stream",
     "text": [
      "('ashu', 18, 'cricket')\n"
     ]
    },
    {
     "data": {
      "text/plain": [
       "tuple"
      ]
     },
     "execution_count": 39,
     "metadata": {},
     "output_type": "execute_result"
    }
   ],
   "source": [
    "# returning multiple values\n",
    "def intro(name , age, hobby):\n",
    "    return(name, age, hobby)\n",
    "#(c,d,e) = print(\"ashu\", 18, \"cricket\")\n",
    "#print(c,d,e)\n",
    "c = intro(\"ashu\", 18, \"cricket\")\n",
    "print(c)\n",
    "type(c)\n"
   ]
  },
  {
   "cell_type": "code",
   "execution_count": 45,
   "id": "e31a974e",
   "metadata": {},
   "outputs": [
    {
     "name": "stdout",
     "output_type": "stream",
     "text": [
      "10\n",
      "5\n"
     ]
    },
    {
     "ename": "NameError",
     "evalue": "name 'x' is not defined",
     "output_type": "error",
     "traceback": [
      "\u001b[1;31m---------------------------------------------------------------------------\u001b[0m",
      "\u001b[1;31mNameError\u001b[0m                                 Traceback (most recent call last)",
      "Cell \u001b[1;32mIn[45], line 10\u001b[0m\n\u001b[0;32m      8\u001b[0m func()\n\u001b[0;32m      9\u001b[0m \u001b[38;5;28mprint\u001b[39m(a)\n\u001b[1;32m---> 10\u001b[0m \u001b[38;5;28mprint\u001b[39m(x)\n",
      "\u001b[1;31mNameError\u001b[0m: name 'x' is not defined"
     ]
    }
   ],
   "source": [
    "# scope of a variable\n",
    "a = 5\n",
    "# local variable\n",
    "def func():\n",
    "    x = 10\n",
    "    print(x)\n",
    "\n",
    "func()\n",
    "print(a)\n",
    "print(x)"
   ]
  },
  {
   "cell_type": "code",
   "execution_count": 47,
   "id": "bf10d726",
   "metadata": {},
   "outputs": [
    {
     "name": "stdout",
     "output_type": "stream",
     "text": [
      "34\n",
      "10\n"
     ]
    },
    {
     "ename": "NameError",
     "evalue": "name 'x' is not defined",
     "output_type": "error",
     "traceback": [
      "\u001b[1;31m---------------------------------------------------------------------------\u001b[0m",
      "\u001b[1;31mNameError\u001b[0m                                 Traceback (most recent call last)",
      "Cell \u001b[1;32mIn[47], line 9\u001b[0m\n\u001b[0;32m      7\u001b[0m func()\n\u001b[0;32m      8\u001b[0m \u001b[38;5;28mprint\u001b[39m(a)\n\u001b[1;32m----> 9\u001b[0m \u001b[38;5;28mprint\u001b[39m(x)\n",
      "\u001b[1;31mNameError\u001b[0m: name 'x' is not defined"
     ]
    }
   ],
   "source": [
    "a = 10\n",
    "\n",
    "def func():\n",
    "    x = 34\n",
    "    print(x)\n",
    "    \n",
    "func()\n",
    "print(a)\n",
    "print(x)"
   ]
  },
  {
   "cell_type": "code",
   "execution_count": 52,
   "id": "4e60c7cd",
   "metadata": {},
   "outputs": [
    {
     "name": "stdout",
     "output_type": "stream",
     "text": [
      "23\n",
      "20\n",
      "20\n"
     ]
    }
   ],
   "source": [
    "a = 23\n",
    "\n",
    "def func():\n",
    "    global a\n",
    "    a = 20\n",
    "    print(a)\n",
    "    \n",
    "print(a)    \n",
    "func()\n",
    "print(a)"
   ]
  },
  {
   "cell_type": "code",
   "execution_count": 3,
   "id": "85f27960",
   "metadata": {},
   "outputs": [
    {
     "data": {
      "text/plain": [
       "7"
      ]
     },
     "execution_count": 3,
     "metadata": {},
     "output_type": "execute_result"
    }
   ],
   "source": [
    "# lambda function\n",
    "def add(a, b):\n",
    "    return a + b\n",
    "add(3,4)\n"
   ]
  },
  {
   "cell_type": "code",
   "execution_count": 5,
   "id": "79cb94b4",
   "metadata": {},
   "outputs": [
    {
     "data": {
      "text/plain": [
       "7"
      ]
     },
     "execution_count": 5,
     "metadata": {},
     "output_type": "execute_result"
    }
   ],
   "source": [
    "(lambda a,b : a + b) (3,4)"
   ]
  },
  {
   "cell_type": "code",
   "execution_count": 6,
   "id": "400f51c9",
   "metadata": {},
   "outputs": [
    {
     "data": {
      "text/plain": [
       "9"
      ]
     },
     "execution_count": 6,
     "metadata": {},
     "output_type": "execute_result"
    }
   ],
   "source": [
    "func = (lambda a,b : a + b) \n",
    "func(4,5)"
   ]
  },
  {
   "cell_type": "code",
   "execution_count": 8,
   "id": "080d94bb",
   "metadata": {},
   "outputs": [
    {
     "data": {
      "text/plain": [
       "46"
      ]
     },
     "execution_count": 8,
     "metadata": {},
     "output_type": "execute_result"
    }
   ],
   "source": [
    "def larger(a,b):\n",
    "    if a>b:\n",
    "        return a\n",
    "    else:\n",
    "        return b\n",
    "larger(46,5)\n",
    "        \n"
   ]
  },
  {
   "cell_type": "code",
   "execution_count": 12,
   "id": "7e1dc847",
   "metadata": {},
   "outputs": [
    {
     "data": {
      "text/plain": [
       "89"
      ]
     },
     "execution_count": 12,
     "metadata": {},
     "output_type": "execute_result"
    }
   ],
   "source": [
    "(lambda a, b : a if a>b else b) (44,89)"
   ]
  },
  {
   "cell_type": "code",
   "execution_count": 25,
   "id": "7f631185",
   "metadata": {},
   "outputs": [],
   "source": [
    "# print even numbers\n",
    "def even(li):\n",
    "    for i in li:\n",
    "        if i % 2 == 0:\n",
    "            print(i, end=\",\")"
   ]
  },
  {
   "cell_type": "code",
   "execution_count": 26,
   "id": "ebbd503b",
   "metadata": {},
   "outputs": [
    {
     "name": "stdout",
     "output_type": "stream",
     "text": [
      "2,4,6,8,10,14,16,"
     ]
    }
   ],
   "source": [
    "li = [2,4,6,8,10,11,14,16,13,15,17,19]\n",
    "even(li)"
   ]
  },
  {
   "cell_type": "code",
   "execution_count": 59,
   "id": "e53c38aa",
   "metadata": {},
   "outputs": [],
   "source": [
    "# take a list and return a unique list\n",
    "def unique(li):\n",
    "    \n",
    "    new = []\n",
    "    \n",
    "    for i in li:\n",
    "        \n",
    "        if i not in new:\n",
    "            \n",
    "            new.append(i)\n",
    "    return new"
   ]
  },
  {
   "cell_type": "code",
   "execution_count": 63,
   "id": "aa9f5551",
   "metadata": {},
   "outputs": [
    {
     "data": {
      "text/plain": [
       "[1, 2, 3, 4]"
      ]
     },
     "execution_count": 63,
     "metadata": {},
     "output_type": "execute_result"
    }
   ],
   "source": [
    "unique(li)\n",
    "\n"
   ]
  },
  {
   "cell_type": "code",
   "execution_count": 67,
   "id": "7adbc1e0",
   "metadata": {},
   "outputs": [],
   "source": [
    "# positional arguments:\n",
    "\n",
    "def intro(name,hobby):\n",
    "    print(\"my name is\", name)\n",
    "    print(\"my hobby is\", hobby)\n",
    "    "
   ]
  },
  {
   "cell_type": "code",
   "execution_count": 68,
   "id": "948a8afe",
   "metadata": {},
   "outputs": [
    {
     "name": "stdout",
     "output_type": "stream",
     "text": [
      "my name is ashutosh\n",
      "my hobby is playing cricket\n"
     ]
    }
   ],
   "source": [
    "intro(\"ashutosh\", \"playing cricket\")"
   ]
  },
  {
   "cell_type": "code",
   "execution_count": 79,
   "id": "02683330",
   "metadata": {},
   "outputs": [],
   "source": [
    "# default arguments:\n",
    "def intro(name, hobby = \"playing bgmi\"):\n",
    "    print(\"my name is\", name)\n",
    "    print(\"my hobby is\",  hobby)"
   ]
  },
  {
   "cell_type": "code",
   "execution_count": 80,
   "id": "9d38528a",
   "metadata": {},
   "outputs": [
    {
     "name": "stdout",
     "output_type": "stream",
     "text": [
      "my name is ashutosh pandey\n",
      "my hobby is playing bgmi\n"
     ]
    }
   ],
   "source": [
    "intro(\"ashutosh pandey\")"
   ]
  },
  {
   "cell_type": "code",
   "execution_count": 81,
   "id": "a6f41b77",
   "metadata": {},
   "outputs": [
    {
     "name": "stdout",
     "output_type": "stream",
     "text": [
      "my name is hanu\n",
      "my hobby is playing cricket\n"
     ]
    }
   ],
   "source": [
    "intro(\"hanu\", \"playing cricket\")"
   ]
  },
  {
   "cell_type": "code",
   "execution_count": 90,
   "id": "9ef13337",
   "metadata": {},
   "outputs": [],
   "source": [
    "# arbitrary arguments:\n",
    "def test(*args):\n",
    "    print(type(args))\n",
    "    print(args)\n",
    "    for i in args:\n",
    "        print(i * i, end=\" \")"
   ]
  },
  {
   "cell_type": "code",
   "execution_count": 91,
   "id": "ed06ead0",
   "metadata": {},
   "outputs": [
    {
     "name": "stdout",
     "output_type": "stream",
     "text": [
      "<class 'tuple'>\n",
      "(2, 3, 4)\n",
      "4 9 16 "
     ]
    }
   ],
   "source": [
    "test(2,3,4)"
   ]
  },
  {
   "cell_type": "code",
   "execution_count": 12,
   "id": "b1c0fbad",
   "metadata": {},
   "outputs": [],
   "source": [
    "# keyword arguments:\n",
    "def intro(**kwargs):\n",
    "    #print(kwargs)\n",
    "    #print(type(kwargs))\n",
    "    for key,value in kwargs.items():\n",
    "        print(key, value, sep=\" \")\n",
    "    "
   ]
  },
  {
   "cell_type": "code",
   "execution_count": 13,
   "id": "6957081d",
   "metadata": {},
   "outputs": [
    {
     "name": "stdout",
     "output_type": "stream",
     "text": [
      "name ashu\n",
      "age 18\n",
      "hobby playing cricket\n"
     ]
    }
   ],
   "source": [
    "intro(name = \"ashu\", age=\"18\", hobby=\"playing cricket\")"
   ]
  },
  {
   "cell_type": "code",
   "execution_count": 15,
   "id": "f237f936",
   "metadata": {},
   "outputs": [],
   "source": [
    "#oops in python\n",
    "class Human:\n",
    "    \n",
    "    def __init__(self, name, age, hobby):\n",
    "        self.name = name\n",
    "        self.age = age\n",
    "        self.hobby = hobby"
   ]
  },
  {
   "cell_type": "code",
   "execution_count": 19,
   "id": "cdcbc055",
   "metadata": {},
   "outputs": [
    {
     "name": "stdout",
     "output_type": "stream",
     "text": [
      "<__main__.Human object at 0x0000021CB677CAD0>\n"
     ]
    },
    {
     "data": {
      "text/plain": [
       "'playing cricket'"
      ]
     },
     "execution_count": 19,
     "metadata": {},
     "output_type": "execute_result"
    }
   ],
   "source": [
    "ashu = Human(\"ashutosh\", 18, \"playing cricket\")\n",
    "print(ashu)\n",
    "\n",
    "ashu.name\n",
    "ashu.age\n",
    "ashu.hobby"
   ]
  },
  {
   "cell_type": "code",
   "execution_count": 65,
   "id": "ffe83854",
   "metadata": {
    "tags": []
   },
   "outputs": [],
   "source": [
    "class Human:\n",
    "       \n",
    "    def __init__(self, name, age, hobby):\n",
    "        self.name = name\n",
    "        self.age = age\n",
    "        self.hobby = hobby\n",
    "    # methods\n",
    "    def greet(self):\n",
    "        print(f\"hey my name is {self.name}. good morning!!\")\n",
    "        "
   ]
  },
  {
   "cell_type": "code",
   "execution_count": 25,
   "id": "ae89a79c",
   "metadata": {},
   "outputs": [
    {
     "name": "stdout",
     "output_type": "stream",
     "text": [
      "hey my name is ashutosh pandey. good morning!!\n"
     ]
    }
   ],
   "source": [
    "rahul = Human(\"ashutosh pandey\", 18, \"playing bgmi\")\n",
    "rahul.greet()"
   ]
  },
  {
   "cell_type": "code",
   "execution_count": 67,
   "id": "7c0be05f",
   "metadata": {
    "tags": []
   },
   "outputs": [],
   "source": [
    "class Human:\n",
    "    # class variable\n",
    "    population = 0\n",
    "    data = []\n",
    "    \n",
    "    # constructor\n",
    "    def __init__(self, name, age):\n",
    "        # attributes for an object\n",
    "        self.name = name\n",
    "        self.age = age\n",
    "        # increment population for every new object\n",
    "        Human.population += 1\n",
    "        Human.data.append(self.name)"
   ]
  },
  {
   "cell_type": "code",
   "execution_count": 69,
   "id": "c7cfca31",
   "metadata": {
    "tags": []
   },
   "outputs": [
    {
     "data": {
      "text/plain": [
       "['ashutosh pandey']"
      ]
     },
     "execution_count": 69,
     "metadata": {},
     "output_type": "execute_result"
    }
   ],
   "source": [
    "ashu = Human(\"ashutosh pandey\", 18)\n",
    "ashu.name\n",
    "Human.population\n",
    "Human.data\n",
    "\n"
   ]
  },
  {
   "cell_type": "code",
   "execution_count": 71,
   "id": "06efa8db",
   "metadata": {
    "tags": []
   },
   "outputs": [
    {
     "data": {
      "text/plain": [
       "['ashutosh pandey', 'Steve harington']"
      ]
     },
     "execution_count": 71,
     "metadata": {},
     "output_type": "execute_result"
    }
   ],
   "source": [
    "steve = Human(\"Steve harington\", 23)\n",
    "Human.population\n",
    "steve.name\n",
    "Human.data"
   ]
  },
  {
   "cell_type": "code",
   "execution_count": 73,
   "id": "e0bb50b7",
   "metadata": {
    "tags": []
   },
   "outputs": [
    {
     "data": {
      "text/plain": [
       "2"
      ]
     },
     "execution_count": 73,
     "metadata": {},
     "output_type": "execute_result"
    }
   ],
   "source": [
    "Human.population"
   ]
  },
  {
   "cell_type": "code",
   "execution_count": null,
   "id": "d5b48a78-47d4-41ab-bb15-0e5bb78481f3",
   "metadata": {},
   "outputs": [],
   "source": [
    "# inheritance code:\n",
    "# human is base class\n",
    "# employee is derived classs"
   ]
  },
  {
   "cell_type": "code",
   "execution_count": 89,
   "id": "76edb7c4-5cca-4b82-91b5-f529e3009253",
   "metadata": {
    "tags": []
   },
   "outputs": [],
   "source": [
    "\n",
    "class Employee(Human):\n",
    "    # re-initiate constructor\n",
    "    def __init__(self, name, age, company, post):\n",
    "        super().__init__(name, age)\n",
    "        # attribute for employee class\n",
    "        self.company = company\n",
    "        self.post = post\n",
    "        # add some attributes\n",
    "        \n",
    "    def hire(self, person):\n",
    "        print(f\"{person} has been hired in our company\")\n",
    "        Human.data.append(person)\n",
    "        Human.population += 1\n",
    "\n",
    "    "
   ]
  },
  {
   "cell_type": "code",
   "execution_count": null,
   "id": "61f136e6-c1cc-4ef7-b505-10dd5f43f931",
   "metadata": {},
   "outputs": [],
   "source": []
  },
  {
   "cell_type": "code",
   "execution_count": 91,
   "id": "026e87ae-e19c-485a-a248-0bc26907c6a6",
   "metadata": {
    "tags": []
   },
   "outputs": [
    {
     "data": {
      "text/plain": [
       "'google'"
      ]
     },
     "execution_count": 91,
     "metadata": {},
     "output_type": "execute_result"
    }
   ],
   "source": [
    "ashu = Employee(\"ashutosh pandy\", 18, \"google\", \"software engineer\")\n",
    "ashu.company\n"
   ]
  },
  {
   "cell_type": "code",
   "execution_count": 93,
   "id": "f75d680c-c422-4af2-8105-d3ec2bf6712b",
   "metadata": {
    "tags": []
   },
   "outputs": [
    {
     "name": "stdout",
     "output_type": "stream",
     "text": [
      "harry has been hired in our company\n"
     ]
    }
   ],
   "source": [
    "ashu.hire(\"harry\")"
   ]
  },
  {
   "cell_type": "code",
   "execution_count": 101,
   "id": "b8465d68-7324-4d9d-96cd-a3353eb64ec8",
   "metadata": {
    "tags": []
   },
   "outputs": [
    {
     "data": {
      "text/plain": [
       "['ashutosh pandey',\n",
       " 'Steve harington',\n",
       " 'ashutosh pandy',\n",
       " 'ashutosh pandy',\n",
       " 'ashutosh pandy',\n",
       " 'ashutosh pandy',\n",
       " 'harry']"
      ]
     },
     "execution_count": 101,
     "metadata": {},
     "output_type": "execute_result"
    }
   ],
   "source": [
    "Human.population\n",
    "Human.data"
   ]
  },
  {
   "cell_type": "code",
   "execution_count": 25,
   "id": "bf161759-bd21-4b24-ac37-7275743a4e30",
   "metadata": {
    "tags": []
   },
   "outputs": [
    {
     "data": {
      "text/plain": [
       "'hlo , my name is ashutosh pandey'"
      ]
     },
     "execution_count": 25,
     "metadata": {},
     "output_type": "execute_result"
    }
   ],
   "source": [
    "# file handling\n",
    "f = open(\"table.c\")\n",
    "f.read()\n"
   ]
  },
  {
   "cell_type": "code",
   "execution_count": 27,
   "id": "d90da729-bbc9-4801-beaf-7f394d6dbc48",
   "metadata": {
    "tags": []
   },
   "outputs": [
    {
     "data": {
      "text/plain": [
       "True"
      ]
     },
     "execution_count": 27,
     "metadata": {},
     "output_type": "execute_result"
    }
   ],
   "source": [
    "f.close()\n",
    "f.closed"
   ]
  },
  {
   "cell_type": "code",
   "execution_count": 5,
   "id": "b6cc6278-ebbc-41c0-8793-adcf4557cf00",
   "metadata": {
    "tags": []
   },
   "outputs": [
    {
     "data": {
      "text/plain": [
       "16"
      ]
     },
     "execution_count": 5,
     "metadata": {},
     "output_type": "execute_result"
    }
   ],
   "source": [
    "f = open(\"name.text1\", \"w\")\n",
    "f.write(\"i am writale now\")\n"
   ]
  },
  {
   "cell_type": "code",
   "execution_count": 25,
   "id": "002eee4a-ea83-40d9-adea-cb16afb8ccca",
   "metadata": {
    "tags": []
   },
   "outputs": [
    {
     "name": "stdout",
     "output_type": "stream",
     "text": [
      "hey my name is ashu and my hobby is playing cricket\n"
     ]
    }
   ],
   "source": [
    "with open(\"name.text1\") as f:\n",
    "    print(f.read())"
   ]
  },
  {
   "cell_type": "code",
   "execution_count": 32,
   "id": "a7d3bf82-5030-4149-92a0-a56ac9dd800d",
   "metadata": {
    "tags": []
   },
   "outputs": [],
   "source": [
    "with open(\"name.text1\", \"w\") as f:\n",
    "    f.write(\"hey my name is ashu and my hobby is playing cricket\")"
   ]
  },
  {
   "cell_type": "code",
   "execution_count": 34,
   "id": "9fe14467-7e33-4502-9784-5cbf0904c55e",
   "metadata": {
    "tags": []
   },
   "outputs": [],
   "source": [
    "with open(\"new.text\", \"w\") as f:\n",
    "    f.write(\"this is a new file\")"
   ]
  },
  {
   "cell_type": "code",
   "execution_count": 42,
   "id": "2b22e562-a1ef-422f-bf32-bfce5175093e",
   "metadata": {
    "tags": []
   },
   "outputs": [],
   "source": [
    "with open(\"new.text\", \"w\") as f:\n",
    "    f.write(\"this is updated line\")"
   ]
  },
  {
   "cell_type": "code",
   "execution_count": 54,
   "id": "a7f9e616-2d0b-401f-b0b8-d3040ba16685",
   "metadata": {
    "tags": []
   },
   "outputs": [
    {
     "ename": "NameError",
     "evalue": "name 'd' is not defined",
     "output_type": "error",
     "traceback": [
      "\u001b[1;31m---------------------------------------------------------------------------\u001b[0m",
      "\u001b[1;31mNameError\u001b[0m                                 Traceback (most recent call last)",
      "Cell \u001b[1;32mIn[54], line 7\u001b[0m\n\u001b[0;32m      1\u001b[0m \u001b[38;5;66;03m# binary file\u001b[39;00m\n\u001b[0;32m      2\u001b[0m \u001b[38;5;66;03m#with open(\"Picture1.png\", \"rb\") as f:\u001b[39;00m\n\u001b[0;32m      3\u001b[0m     \u001b[38;5;66;03m#data = f.read()\u001b[39;00m\n\u001b[0;32m      4\u001b[0m     \u001b[38;5;66;03m#print(data)\u001b[39;00m\n\u001b[0;32m      6\u001b[0m \u001b[38;5;28;01mwith\u001b[39;00m \u001b[38;5;28mopen\u001b[39m(\u001b[38;5;124m\"\u001b[39m\u001b[38;5;124mnew.png\u001b[39m\u001b[38;5;124m\"\u001b[39m, \u001b[38;5;124m\"\u001b[39m\u001b[38;5;124mwb\u001b[39m\u001b[38;5;124m\"\u001b[39m) \u001b[38;5;28;01mas\u001b[39;00m f:\n\u001b[1;32m----> 7\u001b[0m     d\u001b[38;5;241m.\u001b[39mwrite(data)\n",
      "\u001b[1;31mNameError\u001b[0m: name 'd' is not defined"
     ]
    }
   ],
   "source": [
    "# binary file\n",
    "#with open(\"Picture1.png\", \"rb\") as f:\n",
    "    #data = f.read()\n",
    "    #print(data)\n",
    "    \n",
    "with open(\"new.png\", \"wb\") as f:\n",
    "    d.write(data)\n"
   ]
  },
  {
   "cell_type": "code",
   "execution_count": 58,
   "id": "40d5074e-6be4-4545-8fc4-4bdd2c8b59e3",
   "metadata": {
    "tags": []
   },
   "outputs": [
    {
     "name": "stdout",
     "output_type": "stream",
     "text": [
      "['ArithmeticError', 'AssertionError', 'AttributeError', 'BaseException', 'BaseExceptionGroup', 'BlockingIOError', 'BrokenPipeError', 'BufferError', 'BytesWarning', 'ChildProcessError', 'ConnectionAbortedError', 'ConnectionError', 'ConnectionRefusedError', 'ConnectionResetError', 'DeprecationWarning', 'EOFError', 'Ellipsis', 'EncodingWarning', 'EnvironmentError', 'Exception', 'ExceptionGroup', 'False', 'FileExistsError', 'FileNotFoundError', 'FloatingPointError', 'FutureWarning', 'GeneratorExit', 'IOError', 'ImportError', 'ImportWarning', 'IndentationError', 'IndexError', 'InterruptedError', 'IsADirectoryError', 'KeyError', 'KeyboardInterrupt', 'LookupError', 'MemoryError', 'ModuleNotFoundError', 'NameError', 'None', 'NotADirectoryError', 'NotImplemented', 'NotImplementedError', 'OSError', 'OverflowError', 'PendingDeprecationWarning', 'PermissionError', 'ProcessLookupError', 'RecursionError', 'ReferenceError', 'ResourceWarning', 'RuntimeError', 'RuntimeWarning', 'StopAsyncIteration', 'StopIteration', 'SyntaxError', 'SyntaxWarning', 'SystemError', 'SystemExit', 'TabError', 'TimeoutError', 'True', 'TypeError', 'UnboundLocalError', 'UnicodeDecodeError', 'UnicodeEncodeError', 'UnicodeError', 'UnicodeTranslateError', 'UnicodeWarning', 'UserWarning', 'ValueError', 'Warning', 'WindowsError', 'ZeroDivisionError', '__IPYTHON__', '__build_class__', '__debug__', '__doc__', '__import__', '__loader__', '__name__', '__package__', '__spec__', 'abs', 'aiter', 'all', 'anext', 'any', 'ascii', 'bin', 'bool', 'breakpoint', 'bytearray', 'bytes', 'callable', 'chr', 'classmethod', 'compile', 'complex', 'copyright', 'credits', 'delattr', 'dict', 'dir', 'display', 'divmod', 'enumerate', 'eval', 'exec', 'execfile', 'filter', 'float', 'format', 'frozenset', 'get_ipython', 'getattr', 'globals', 'hasattr', 'hash', 'help', 'hex', 'id', 'input', 'int', 'isinstance', 'issubclass', 'iter', 'len', 'license', 'list', 'locals', 'map', 'max', 'memoryview', 'min', 'next', 'object', 'oct', 'open', 'ord', 'pow', 'print', 'property', 'range', 'repr', 'reversed', 'round', 'runfile', 'set', 'setattr', 'slice', 'sorted', 'staticmethod', 'str', 'sum', 'super', 'tuple', 'type', 'vars', 'zip']\n"
     ]
    }
   ],
   "source": [
    "# types of error in python\n",
    "print(dir(__builtins__))\n",
    "      "
   ]
  },
  {
   "cell_type": "code",
   "execution_count": 64,
   "id": "6b5fc614-5c55-4608-908c-abfeaa6dcd45",
   "metadata": {
    "tags": []
   },
   "outputs": [
    {
     "name": "stdout",
     "output_type": "stream",
     "text": [
      "this is not error show\n",
      "hello ashu\n"
     ]
    }
   ],
   "source": [
    "a = 5\n",
    "b = 0\n",
    "try:(a/b)\n",
    "except:\n",
    "    print(\"this is not error show\")\n",
    "    \n",
    "    \n",
    "print(\"hello ashu\")    "
   ]
  },
  {
   "cell_type": "code",
   "execution_count": 68,
   "id": "f40e8c3b-20bc-4f53-b3f0-ec5d4d15d18c",
   "metadata": {
    "tags": []
   },
   "outputs": [
    {
     "name": "stdout",
     "output_type": "stream",
     "text": [
      "68.0\n"
     ]
    }
   ],
   "source": [
    "def convert(t):\n",
    "    return t*9/5 + 32\n",
    "\n",
    "print(convert(20))"
   ]
  },
  {
   "cell_type": "code",
   "execution_count": 80,
   "id": "8d965c1a-7620-407e-8f2a-c7b8dc4aaa54",
   "metadata": {
    "tags": []
   },
   "outputs": [
    {
     "name": "stdout",
     "output_type": "stream",
     "text": [
      "('mohit', 18)\n"
     ]
    }
   ],
   "source": [
    "def fun1(name, age):\n",
    "    print(name,age)\n",
    "    \n",
    "func1 = (\"mohit\", 18)\n",
    "print(func1)"
   ]
  },
  {
   "cell_type": "code",
   "execution_count": 88,
   "id": "465cfa56-f751-4cad-9f33-f8a87ccd58f5",
   "metadata": {
    "tags": []
   },
   "outputs": [
    {
     "ename": "TypeError",
     "evalue": "interest() missing 2 required positional arguments: 'p' and 'c'",
     "output_type": "error",
     "traceback": [
      "\u001b[1;31m---------------------------------------------------------------------------\u001b[0m",
      "\u001b[1;31mTypeError\u001b[0m                                 Traceback (most recent call last)",
      "Cell \u001b[1;32mIn[88], line 3\u001b[0m\n\u001b[0;32m      1\u001b[0m \u001b[38;5;28;01mdef\u001b[39;00m \u001b[38;5;21minterest\u001b[39m(p,c,t\u001b[38;5;241m=\u001b[39m\u001b[38;5;241m2\u001b[39m, r\u001b[38;5;241m=\u001b[39m\u001b[38;5;241m0.09\u001b[39m):\n\u001b[0;32m      2\u001b[0m     \u001b[38;5;28;01mreturn\u001b[39;00m(p\u001b[38;5;241m*\u001b[39mt\u001b[38;5;241m*\u001b[39mr)\n\u001b[1;32m----> 3\u001b[0m interest()\n",
      "\u001b[1;31mTypeError\u001b[0m: interest() missing 2 required positional arguments: 'p' and 'c'"
     ]
    }
   ],
   "source": [
    "def interest(p,c,t=2, r=0.09):\n",
    "    return(p*t*r)\n",
    "interest()"
   ]
  }
 ],
 "metadata": {
  "kernelspec": {
   "display_name": "Python 3 (ipykernel)",
   "language": "python",
   "name": "python3"
  },
  "language_info": {
   "codemirror_mode": {
    "name": "ipython",
    "version": 3
   },
   "file_extension": ".py",
   "mimetype": "text/x-python",
   "name": "python",
   "nbconvert_exporter": "python",
   "pygments_lexer": "ipython3",
   "version": "3.11.5"
  }
 },
 "nbformat": 4,
 "nbformat_minor": 5
}
